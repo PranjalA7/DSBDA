{
 "cells": [
  {
   "cell_type": "code",
   "execution_count": 1,
   "id": "13b5b074",
   "metadata": {},
   "outputs": [],
   "source": [
    "import pandas as pd\n",
    "import matplotlib.pyplot as plt\n",
    "import seaborn as sns\n",
    "import numpy as np\n",
    "from scipy import stats"
   ]
  },
  {
   "cell_type": "code",
   "execution_count": 2,
   "id": "0437127b",
   "metadata": {},
   "outputs": [],
   "source": [
    "data=pd.read_csv(\"/home/unix/Documents/academics.csv\")\n",
    "df=pd.read_csv(\"/home/unix/Documents/academics.csv\")"
   ]
  },
  {
   "cell_type": "code",
   "execution_count": 3,
   "id": "275a8ad5",
   "metadata": {},
   "outputs": [
    {
     "data": {
      "text/html": [
       "<div>\n",
       "<style scoped>\n",
       "    .dataframe tbody tr th:only-of-type {\n",
       "        vertical-align: middle;\n",
       "    }\n",
       "\n",
       "    .dataframe tbody tr th {\n",
       "        vertical-align: top;\n",
       "    }\n",
       "\n",
       "    .dataframe thead th {\n",
       "        text-align: right;\n",
       "    }\n",
       "</style>\n",
       "<table border=\"1\" class=\"dataframe\">\n",
       "  <thead>\n",
       "    <tr style=\"text-align: right;\">\n",
       "      <th></th>\n",
       "      <th>Roll No</th>\n",
       "      <th>Name</th>\n",
       "      <th>SSC</th>\n",
       "      <th>HSC</th>\n",
       "      <th>FE</th>\n",
       "      <th>SE</th>\n",
       "      <th>TE</th>\n",
       "      <th>AVG</th>\n",
       "    </tr>\n",
       "  </thead>\n",
       "  <tbody>\n",
       "    <tr>\n",
       "      <th>0</th>\n",
       "      <td>1</td>\n",
       "      <td>Pranjal Rajendra Aher</td>\n",
       "      <td>90.0</td>\n",
       "      <td>80.0</td>\n",
       "      <td>78.00</td>\n",
       "      <td>80.60</td>\n",
       "      <td>78.60</td>\n",
       "      <td>81.44</td>\n",
       "    </tr>\n",
       "    <tr>\n",
       "      <th>1</th>\n",
       "      <td>2</td>\n",
       "      <td>Ahire Kalpesh Bapurao</td>\n",
       "      <td>NaN</td>\n",
       "      <td>76.4</td>\n",
       "      <td>75.00</td>\n",
       "      <td>74.60</td>\n",
       "      <td>80.64</td>\n",
       "      <td>76.66</td>\n",
       "    </tr>\n",
       "    <tr>\n",
       "      <th>2</th>\n",
       "      <td>3</td>\n",
       "      <td>Aniket Balasaheb Andhale</td>\n",
       "      <td>78.0</td>\n",
       "      <td>NaN</td>\n",
       "      <td>46.80</td>\n",
       "      <td>75.00</td>\n",
       "      <td>68.00</td>\n",
       "      <td>66.95</td>\n",
       "    </tr>\n",
       "    <tr>\n",
       "      <th>3</th>\n",
       "      <td>4</td>\n",
       "      <td>Sharayu Chandrakant Avhad</td>\n",
       "      <td>80.0</td>\n",
       "      <td>85.0</td>\n",
       "      <td>84.65</td>\n",
       "      <td>90.65</td>\n",
       "      <td>78.65</td>\n",
       "      <td>83.79</td>\n",
       "    </tr>\n",
       "    <tr>\n",
       "      <th>4</th>\n",
       "      <td>5</td>\n",
       "      <td>Tushar Dnyaneshwar Avhad</td>\n",
       "      <td>86.0</td>\n",
       "      <td>78.0</td>\n",
       "      <td>78.00</td>\n",
       "      <td>NaN</td>\n",
       "      <td>72.00</td>\n",
       "      <td>78.50</td>\n",
       "    </tr>\n",
       "  </tbody>\n",
       "</table>\n",
       "</div>"
      ],
      "text/plain": [
       "   Roll No                       Name   SSC   HSC     FE     SE     TE    AVG\n",
       "0        1      Pranjal Rajendra Aher  90.0  80.0  78.00  80.60  78.60  81.44\n",
       "1        2      Ahire Kalpesh Bapurao   NaN  76.4  75.00  74.60  80.64  76.66\n",
       "2        3   Aniket Balasaheb Andhale  78.0   NaN  46.80  75.00  68.00  66.95\n",
       "3        4  Sharayu Chandrakant Avhad  80.0  85.0  84.65  90.65  78.65  83.79\n",
       "4        5   Tushar Dnyaneshwar Avhad  86.0  78.0  78.00    NaN  72.00  78.50"
      ]
     },
     "execution_count": 3,
     "metadata": {},
     "output_type": "execute_result"
    }
   ],
   "source": [
    "data.head()"
   ]
  },
  {
   "cell_type": "code",
   "execution_count": 4,
   "id": "8fd85c43",
   "metadata": {},
   "outputs": [
    {
     "data": {
      "text/html": [
       "<div>\n",
       "<style scoped>\n",
       "    .dataframe tbody tr th:only-of-type {\n",
       "        vertical-align: middle;\n",
       "    }\n",
       "\n",
       "    .dataframe tbody tr th {\n",
       "        vertical-align: top;\n",
       "    }\n",
       "\n",
       "    .dataframe thead th {\n",
       "        text-align: right;\n",
       "    }\n",
       "</style>\n",
       "<table border=\"1\" class=\"dataframe\">\n",
       "  <thead>\n",
       "    <tr style=\"text-align: right;\">\n",
       "      <th></th>\n",
       "      <th>Roll No</th>\n",
       "      <th>Name</th>\n",
       "      <th>SSC</th>\n",
       "      <th>HSC</th>\n",
       "      <th>FE</th>\n",
       "      <th>SE</th>\n",
       "      <th>TE</th>\n",
       "      <th>AVG</th>\n",
       "    </tr>\n",
       "  </thead>\n",
       "  <tbody>\n",
       "    <tr>\n",
       "      <th>27</th>\n",
       "      <td>28</td>\n",
       "      <td>Janhavi Shyam Jadhav</td>\n",
       "      <td>85.4</td>\n",
       "      <td>NaN</td>\n",
       "      <td>78.0</td>\n",
       "      <td>NaN</td>\n",
       "      <td>63.0</td>\n",
       "      <td>75.466667</td>\n",
       "    </tr>\n",
       "    <tr>\n",
       "      <th>28</th>\n",
       "      <td>29</td>\n",
       "      <td>Sanika Kamlakar Jadhav</td>\n",
       "      <td>85.0</td>\n",
       "      <td>75.4</td>\n",
       "      <td>80.0</td>\n",
       "      <td>45.0</td>\n",
       "      <td>NaN</td>\n",
       "      <td>71.350000</td>\n",
       "    </tr>\n",
       "    <tr>\n",
       "      <th>29</th>\n",
       "      <td>30</td>\n",
       "      <td>Sumat Mahavir Jain</td>\n",
       "      <td>65.4</td>\n",
       "      <td>NaN</td>\n",
       "      <td>46.0</td>\n",
       "      <td>85.0</td>\n",
       "      <td>58.0</td>\n",
       "      <td>63.600000</td>\n",
       "    </tr>\n",
       "    <tr>\n",
       "      <th>30</th>\n",
       "      <td>31</td>\n",
       "      <td>Yash Jain</td>\n",
       "      <td>NaN</td>\n",
       "      <td>45.0</td>\n",
       "      <td>78.0</td>\n",
       "      <td>NaN</td>\n",
       "      <td>76.0</td>\n",
       "      <td>66.333333</td>\n",
       "    </tr>\n",
       "    <tr>\n",
       "      <th>31</th>\n",
       "      <td>32</td>\n",
       "      <td>Joshi Rutuja Vishnupant</td>\n",
       "      <td>84.2</td>\n",
       "      <td>75.0</td>\n",
       "      <td>76.0</td>\n",
       "      <td>45.0</td>\n",
       "      <td>77.0</td>\n",
       "      <td>71.440000</td>\n",
       "    </tr>\n",
       "  </tbody>\n",
       "</table>\n",
       "</div>"
      ],
      "text/plain": [
       "    Roll No                     Name   SSC   HSC    FE    SE    TE        AVG\n",
       "27       28     Janhavi Shyam Jadhav  85.4   NaN  78.0   NaN  63.0  75.466667\n",
       "28       29  Sanika Kamlakar Jadhav   85.0  75.4  80.0  45.0   NaN  71.350000\n",
       "29       30       Sumat Mahavir Jain  65.4   NaN  46.0  85.0  58.0  63.600000\n",
       "30       31                Yash Jain   NaN  45.0  78.0   NaN  76.0  66.333333\n",
       "31       32  Joshi Rutuja Vishnupant  84.2  75.0  76.0  45.0  77.0  71.440000"
      ]
     },
     "execution_count": 4,
     "metadata": {},
     "output_type": "execute_result"
    }
   ],
   "source": [
    "data.tail()"
   ]
  },
  {
   "cell_type": "code",
   "execution_count": 5,
   "id": "25b8df4a",
   "metadata": {},
   "outputs": [
    {
     "name": "stdout",
     "output_type": "stream",
     "text": [
      "<class 'pandas.core.frame.DataFrame'>\n",
      "RangeIndex: 32 entries, 0 to 31\n",
      "Data columns (total 8 columns):\n",
      " #   Column   Non-Null Count  Dtype  \n",
      "---  ------   --------------  -----  \n",
      " 0   Roll No  32 non-null     int64  \n",
      " 1   Name     32 non-null     object \n",
      " 2   SSC      25 non-null     float64\n",
      " 3   HSC      25 non-null     float64\n",
      " 4   FE       29 non-null     float64\n",
      " 5   SE       25 non-null     float64\n",
      " 6   TE       25 non-null     float64\n",
      " 7   AVG      32 non-null     float64\n",
      "dtypes: float64(6), int64(1), object(1)\n",
      "memory usage: 2.1+ KB\n"
     ]
    }
   ],
   "source": [
    "data.info()"
   ]
  },
  {
   "cell_type": "code",
   "execution_count": 6,
   "id": "0a5144d2",
   "metadata": {},
   "outputs": [
    {
     "data": {
      "text/plain": [
       "Roll No    0\n",
       "Name       0\n",
       "SSC        7\n",
       "HSC        7\n",
       "FE         3\n",
       "SE         7\n",
       "TE         7\n",
       "AVG        0\n",
       "dtype: int64"
      ]
     },
     "execution_count": 6,
     "metadata": {},
     "output_type": "execute_result"
    }
   ],
   "source": [
    "data.isnull().sum()"
   ]
  },
  {
   "cell_type": "code",
   "execution_count": 7,
   "id": "606066b9",
   "metadata": {},
   "outputs": [
    {
     "data": {
      "text/plain": [
       "Roll No    32\n",
       "Name       32\n",
       "SSC        25\n",
       "HSC        25\n",
       "FE         29\n",
       "SE         25\n",
       "TE         25\n",
       "AVG        32\n",
       "dtype: int64"
      ]
     },
     "execution_count": 7,
     "metadata": {},
     "output_type": "execute_result"
    }
   ],
   "source": [
    "data.notnull().sum()"
   ]
  },
  {
   "cell_type": "code",
   "execution_count": 8,
   "id": "39136d0a",
   "metadata": {},
   "outputs": [
    {
     "data": {
      "text/plain": [
       "0     False\n",
       "1      True\n",
       "2     False\n",
       "3     False\n",
       "4     False\n",
       "5      True\n",
       "6     False\n",
       "7     False\n",
       "8     False\n",
       "9     False\n",
       "10    False\n",
       "11    False\n",
       "12     True\n",
       "13    False\n",
       "14    False\n",
       "15     True\n",
       "16    False\n",
       "17    False\n",
       "18    False\n",
       "19     True\n",
       "20    False\n",
       "21    False\n",
       "22    False\n",
       "23     True\n",
       "24    False\n",
       "25    False\n",
       "26    False\n",
       "27    False\n",
       "28    False\n",
       "29    False\n",
       "30     True\n",
       "31    False\n",
       "Name: SSC, dtype: bool"
      ]
     },
     "execution_count": 8,
     "metadata": {},
     "output_type": "execute_result"
    }
   ],
   "source": [
    "data['SSC'].isnull()"
   ]
  },
  {
   "cell_type": "code",
   "execution_count": 9,
   "id": "36c1663a",
   "metadata": {},
   "outputs": [
    {
     "data": {
      "text/plain": [
       "Roll No    16.500000\n",
       "SSC        77.188400\n",
       "HSC        71.008000\n",
       "FE         71.227931\n",
       "SE         70.334000\n",
       "TE         74.235600\n",
       "AVG        72.588682\n",
       "dtype: float64"
      ]
     },
     "execution_count": 9,
     "metadata": {},
     "output_type": "execute_result"
    }
   ],
   "source": [
    "data.mean()"
   ]
  },
  {
   "cell_type": "code",
   "execution_count": 10,
   "id": "067922af",
   "metadata": {},
   "outputs": [
    {
     "data": {
      "text/plain": [
       "7"
      ]
     },
     "execution_count": 10,
     "metadata": {},
     "output_type": "execute_result"
    }
   ],
   "source": [
    "data['HSC'].isnull().sum()"
   ]
  },
  {
   "cell_type": "code",
   "execution_count": 11,
   "id": "7bf4b2a0",
   "metadata": {},
   "outputs": [
    {
     "data": {
      "text/plain": [
       "3"
      ]
     },
     "execution_count": 11,
     "metadata": {},
     "output_type": "execute_result"
    }
   ],
   "source": [
    "data['FE'].isnull().sum()"
   ]
  },
  {
   "cell_type": "code",
   "execution_count": 12,
   "id": "47bd8324",
   "metadata": {},
   "outputs": [
    {
     "data": {
      "text/plain": [
       "7"
      ]
     },
     "execution_count": 12,
     "metadata": {},
     "output_type": "execute_result"
    }
   ],
   "source": [
    "data['SE'].isnull().sum()"
   ]
  },
  {
   "cell_type": "code",
   "execution_count": 13,
   "id": "bdb29a4e",
   "metadata": {},
   "outputs": [
    {
     "data": {
      "text/plain": [
       "7"
      ]
     },
     "execution_count": 13,
     "metadata": {},
     "output_type": "execute_result"
    }
   ],
   "source": [
    "data['TE'].isnull().sum()"
   ]
  },
  {
   "cell_type": "code",
   "execution_count": 14,
   "id": "6d2d9d76",
   "metadata": {},
   "outputs": [
    {
     "data": {
      "text/plain": [
       "0     80.00\n",
       "1     76.40\n",
       "2       NaN\n",
       "3     85.00\n",
       "4     78.00\n",
       "5       NaN\n",
       "6     80.00\n",
       "7     76.50\n",
       "8     46.80\n",
       "9       NaN\n",
       "10      NaN\n",
       "11    80.45\n",
       "12    68.40\n",
       "13    80.40\n",
       "14    45.65\n",
       "15    78.40\n",
       "16    45.40\n",
       "17    75.00\n",
       "18    85.40\n",
       "19    56.40\n",
       "20      NaN\n",
       "21    80.40\n",
       "22    75.40\n",
       "23    78.00\n",
       "24    50.00\n",
       "25    76.40\n",
       "26    81.40\n",
       "27      NaN\n",
       "28    75.40\n",
       "29      NaN\n",
       "30    45.00\n",
       "31    75.00\n",
       "Name: HSC, dtype: float64"
      ]
     },
     "execution_count": 14,
     "metadata": {},
     "output_type": "execute_result"
    }
   ],
   "source": [
    "data['HSC']"
   ]
  },
  {
   "cell_type": "code",
   "execution_count": 15,
   "id": "ef5d70f9",
   "metadata": {},
   "outputs": [
    {
     "data": {
      "text/plain": [
       "0"
      ]
     },
     "execution_count": 15,
     "metadata": {},
     "output_type": "execute_result"
    }
   ],
   "source": [
    "data['HSC'].fillna(value=data['HSC'].mean(),inplace=True)\n",
    "data['HSC'].isnull().sum()"
   ]
  },
  {
   "cell_type": "code",
   "execution_count": 16,
   "id": "e53d3f34",
   "metadata": {},
   "outputs": [
    {
     "data": {
      "text/plain": [
       "0     80.000\n",
       "1     76.400\n",
       "2     71.008\n",
       "3     85.000\n",
       "4     78.000\n",
       "5     71.008\n",
       "6     80.000\n",
       "7     76.500\n",
       "8     46.800\n",
       "9     71.008\n",
       "10    71.008\n",
       "11    80.450\n",
       "12    68.400\n",
       "13    80.400\n",
       "14    45.650\n",
       "15    78.400\n",
       "16    45.400\n",
       "17    75.000\n",
       "18    85.400\n",
       "19    56.400\n",
       "20    71.008\n",
       "21    80.400\n",
       "22    75.400\n",
       "23    78.000\n",
       "24    50.000\n",
       "25    76.400\n",
       "26    81.400\n",
       "27    71.008\n",
       "28    75.400\n",
       "29    71.008\n",
       "30    45.000\n",
       "31    75.000\n",
       "Name: HSC, dtype: float64"
      ]
     },
     "execution_count": 16,
     "metadata": {},
     "output_type": "execute_result"
    }
   ],
   "source": [
    "data['HSC']"
   ]
  },
  {
   "cell_type": "code",
   "execution_count": 17,
   "id": "042aca85",
   "metadata": {},
   "outputs": [
    {
     "data": {
      "text/plain": [
       "0     78.00\n",
       "1     75.00\n",
       "2     46.80\n",
       "3     84.65\n",
       "4     78.00\n",
       "5     46.56\n",
       "6     85.00\n",
       "7       NaN\n",
       "8     65.40\n",
       "9     75.40\n",
       "10      NaN\n",
       "11    84.45\n",
       "12    60.00\n",
       "13    75.45\n",
       "14      NaN\n",
       "15    80.00\n",
       "16    78.45\n",
       "17    78.00\n",
       "18    80.45\n",
       "19    70.00\n",
       "20    70.00\n",
       "21    60.00\n",
       "22    75.00\n",
       "23    75.00\n",
       "24    56.00\n",
       "25    85.00\n",
       "26    45.00\n",
       "27    78.00\n",
       "28    80.00\n",
       "29    46.00\n",
       "30    78.00\n",
       "31    76.00\n",
       "Name: FE, dtype: float64"
      ]
     },
     "execution_count": 17,
     "metadata": {},
     "output_type": "execute_result"
    }
   ],
   "source": [
    "data['FE']"
   ]
  },
  {
   "cell_type": "code",
   "execution_count": 18,
   "id": "90962094",
   "metadata": {},
   "outputs": [
    {
     "data": {
      "text/plain": [
       "0"
      ]
     },
     "execution_count": 18,
     "metadata": {},
     "output_type": "execute_result"
    }
   ],
   "source": [
    "data['FE'].fillna(value=0,inplace=True)\n",
    "data['FE'].isnull().sum()"
   ]
  },
  {
   "cell_type": "code",
   "execution_count": 19,
   "id": "213594be",
   "metadata": {},
   "outputs": [
    {
     "data": {
      "text/plain": [
       "0     78.00\n",
       "1     75.00\n",
       "2     46.80\n",
       "3     84.65\n",
       "4     78.00\n",
       "5     46.56\n",
       "6     85.00\n",
       "7      0.00\n",
       "8     65.40\n",
       "9     75.40\n",
       "10     0.00\n",
       "11    84.45\n",
       "12    60.00\n",
       "13    75.45\n",
       "14     0.00\n",
       "15    80.00\n",
       "16    78.45\n",
       "17    78.00\n",
       "18    80.45\n",
       "19    70.00\n",
       "20    70.00\n",
       "21    60.00\n",
       "22    75.00\n",
       "23    75.00\n",
       "24    56.00\n",
       "25    85.00\n",
       "26    45.00\n",
       "27    78.00\n",
       "28    80.00\n",
       "29    46.00\n",
       "30    78.00\n",
       "31    76.00\n",
       "Name: FE, dtype: float64"
      ]
     },
     "execution_count": 19,
     "metadata": {},
     "output_type": "execute_result"
    }
   ],
   "source": [
    "data['FE']"
   ]
  },
  {
   "cell_type": "code",
   "execution_count": 20,
   "id": "869fa0d7",
   "metadata": {},
   "outputs": [
    {
     "data": {
      "text/plain": [
       "0     80.60\n",
       "1     74.60\n",
       "2     75.00\n",
       "3     90.65\n",
       "4       NaN\n",
       "5       NaN\n",
       "6     90.00\n",
       "7     78.00\n",
       "8     86.50\n",
       "9     65.00\n",
       "10      NaN\n",
       "11    85.00\n",
       "12    46.00\n",
       "13    80.00\n",
       "14    75.00\n",
       "15      NaN\n",
       "16    75.00\n",
       "17      NaN\n",
       "18    78.00\n",
       "19    75.00\n",
       "20    85.00\n",
       "21    45.00\n",
       "22    86.00\n",
       "23    75.00\n",
       "24    56.00\n",
       "25    78.00\n",
       "26     4.00\n",
       "27      NaN\n",
       "28    45.00\n",
       "29    85.00\n",
       "30      NaN\n",
       "31    45.00\n",
       "Name: SE, dtype: float64"
      ]
     },
     "execution_count": 20,
     "metadata": {},
     "output_type": "execute_result"
    }
   ],
   "source": [
    "data[\"SE\"]"
   ]
  },
  {
   "cell_type": "code",
   "execution_count": 21,
   "id": "d12f2875",
   "metadata": {},
   "outputs": [
    {
     "data": {
      "text/plain": [
       "0"
      ]
     },
     "execution_count": 21,
     "metadata": {},
     "output_type": "execute_result"
    }
   ],
   "source": [
    "data['SE'].fillna(value=data['SE'].mean(),inplace=True)\n",
    "data['SE'].isnull().sum()"
   ]
  },
  {
   "cell_type": "code",
   "execution_count": 22,
   "id": "a1228ad3",
   "metadata": {},
   "outputs": [
    {
     "data": {
      "text/plain": [
       "0     80.600\n",
       "1     74.600\n",
       "2     75.000\n",
       "3     90.650\n",
       "4     70.334\n",
       "5     70.334\n",
       "6     90.000\n",
       "7     78.000\n",
       "8     86.500\n",
       "9     65.000\n",
       "10    70.334\n",
       "11    85.000\n",
       "12    46.000\n",
       "13    80.000\n",
       "14    75.000\n",
       "15    70.334\n",
       "16    75.000\n",
       "17    70.334\n",
       "18    78.000\n",
       "19    75.000\n",
       "20    85.000\n",
       "21    45.000\n",
       "22    86.000\n",
       "23    75.000\n",
       "24    56.000\n",
       "25    78.000\n",
       "26     4.000\n",
       "27    70.334\n",
       "28    45.000\n",
       "29    85.000\n",
       "30    70.334\n",
       "31    45.000\n",
       "Name: SE, dtype: float64"
      ]
     },
     "execution_count": 22,
     "metadata": {},
     "output_type": "execute_result"
    }
   ],
   "source": [
    "data['SE']"
   ]
  },
  {
   "cell_type": "code",
   "execution_count": 23,
   "id": "37e665f8",
   "metadata": {},
   "outputs": [
    {
     "data": {
      "text/plain": [
       "0     78.60\n",
       "1     80.64\n",
       "2     68.00\n",
       "3     78.65\n",
       "4     72.00\n",
       "5     78.00\n",
       "6     80.00\n",
       "7     90.00\n",
       "8       NaN\n",
       "9     80.00\n",
       "10    84.00\n",
       "11    75.00\n",
       "12      NaN\n",
       "13    85.00\n",
       "14    75.00\n",
       "15    81.00\n",
       "16      NaN\n",
       "17    78.00\n",
       "18      NaN\n",
       "19    45.00\n",
       "20    64.00\n",
       "21    78.00\n",
       "22      NaN\n",
       "23      NaN\n",
       "24    47.00\n",
       "25    86.00\n",
       "26    78.00\n",
       "27    63.00\n",
       "28      NaN\n",
       "29    58.00\n",
       "30    76.00\n",
       "31    77.00\n",
       "Name: TE, dtype: float64"
      ]
     },
     "execution_count": 23,
     "metadata": {},
     "output_type": "execute_result"
    }
   ],
   "source": [
    "data['TE']"
   ]
  },
  {
   "cell_type": "code",
   "execution_count": 24,
   "id": "2a334292",
   "metadata": {},
   "outputs": [
    {
     "data": {
      "text/plain": [
       "0"
      ]
     },
     "execution_count": 24,
     "metadata": {},
     "output_type": "execute_result"
    }
   ],
   "source": [
    "data['TE'].fillna(value=data['TE'].max(),inplace=True)\n",
    "data['TE'].isnull().sum()"
   ]
  },
  {
   "cell_type": "code",
   "execution_count": 25,
   "id": "fa78e05f",
   "metadata": {},
   "outputs": [
    {
     "data": {
      "text/plain": [
       "0     78.60\n",
       "1     80.64\n",
       "2     68.00\n",
       "3     78.65\n",
       "4     72.00\n",
       "5     78.00\n",
       "6     80.00\n",
       "7     90.00\n",
       "8     90.00\n",
       "9     80.00\n",
       "10    84.00\n",
       "11    75.00\n",
       "12    90.00\n",
       "13    85.00\n",
       "14    75.00\n",
       "15    81.00\n",
       "16    90.00\n",
       "17    78.00\n",
       "18    90.00\n",
       "19    45.00\n",
       "20    64.00\n",
       "21    78.00\n",
       "22    90.00\n",
       "23    90.00\n",
       "24    47.00\n",
       "25    86.00\n",
       "26    78.00\n",
       "27    63.00\n",
       "28    90.00\n",
       "29    58.00\n",
       "30    76.00\n",
       "31    77.00\n",
       "Name: TE, dtype: float64"
      ]
     },
     "execution_count": 25,
     "metadata": {},
     "output_type": "execute_result"
    }
   ],
   "source": [
    "data['TE']"
   ]
  },
  {
   "cell_type": "code",
   "execution_count": 26,
   "id": "81cc99c1",
   "metadata": {},
   "outputs": [
    {
     "data": {
      "text/plain": [
       "0"
      ]
     },
     "execution_count": 26,
     "metadata": {},
     "output_type": "execute_result"
    }
   ],
   "source": [
    "data['SSC'].fillna(value=0,inplace=True)\n",
    "data['SSC'].isnull().sum()"
   ]
  },
  {
   "cell_type": "code",
   "execution_count": 27,
   "id": "b774a82f",
   "metadata": {},
   "outputs": [
    {
     "data": {
      "text/html": [
       "<div>\n",
       "<style scoped>\n",
       "    .dataframe tbody tr th:only-of-type {\n",
       "        vertical-align: middle;\n",
       "    }\n",
       "\n",
       "    .dataframe tbody tr th {\n",
       "        vertical-align: top;\n",
       "    }\n",
       "\n",
       "    .dataframe thead th {\n",
       "        text-align: right;\n",
       "    }\n",
       "</style>\n",
       "<table border=\"1\" class=\"dataframe\">\n",
       "  <thead>\n",
       "    <tr style=\"text-align: right;\">\n",
       "      <th></th>\n",
       "      <th>Roll No</th>\n",
       "      <th>Name</th>\n",
       "      <th>SSC</th>\n",
       "      <th>HSC</th>\n",
       "      <th>FE</th>\n",
       "      <th>SE</th>\n",
       "      <th>TE</th>\n",
       "      <th>AVG</th>\n",
       "    </tr>\n",
       "  </thead>\n",
       "  <tbody>\n",
       "    <tr>\n",
       "      <th>0</th>\n",
       "      <td>1</td>\n",
       "      <td>Pranjal Rajendra Aher</td>\n",
       "      <td>90.00</td>\n",
       "      <td>80.00</td>\n",
       "      <td>78.00</td>\n",
       "      <td>80.60</td>\n",
       "      <td>78.60</td>\n",
       "      <td>81.440000</td>\n",
       "    </tr>\n",
       "    <tr>\n",
       "      <th>1</th>\n",
       "      <td>2</td>\n",
       "      <td>Ahire Kalpesh Bapurao</td>\n",
       "      <td>NaN</td>\n",
       "      <td>76.40</td>\n",
       "      <td>75.00</td>\n",
       "      <td>74.60</td>\n",
       "      <td>80.64</td>\n",
       "      <td>76.660000</td>\n",
       "    </tr>\n",
       "    <tr>\n",
       "      <th>2</th>\n",
       "      <td>3</td>\n",
       "      <td>Aniket Balasaheb Andhale</td>\n",
       "      <td>78.00</td>\n",
       "      <td>NaN</td>\n",
       "      <td>46.80</td>\n",
       "      <td>75.00</td>\n",
       "      <td>68.00</td>\n",
       "      <td>66.950000</td>\n",
       "    </tr>\n",
       "    <tr>\n",
       "      <th>3</th>\n",
       "      <td>4</td>\n",
       "      <td>Sharayu Chandrakant Avhad</td>\n",
       "      <td>80.00</td>\n",
       "      <td>85.00</td>\n",
       "      <td>84.65</td>\n",
       "      <td>90.65</td>\n",
       "      <td>78.65</td>\n",
       "      <td>83.790000</td>\n",
       "    </tr>\n",
       "    <tr>\n",
       "      <th>4</th>\n",
       "      <td>5</td>\n",
       "      <td>Tushar Dnyaneshwar Avhad</td>\n",
       "      <td>86.00</td>\n",
       "      <td>78.00</td>\n",
       "      <td>78.00</td>\n",
       "      <td>NaN</td>\n",
       "      <td>72.00</td>\n",
       "      <td>78.500000</td>\n",
       "    </tr>\n",
       "    <tr>\n",
       "      <th>5</th>\n",
       "      <td>6</td>\n",
       "      <td>Samruddhi Badgujar</td>\n",
       "      <td>NaN</td>\n",
       "      <td>NaN</td>\n",
       "      <td>46.56</td>\n",
       "      <td>NaN</td>\n",
       "      <td>78.00</td>\n",
       "      <td>62.280000</td>\n",
       "    </tr>\n",
       "    <tr>\n",
       "      <th>6</th>\n",
       "      <td>7</td>\n",
       "      <td>Asmeeta Lalitkumar Bardiya</td>\n",
       "      <td>90.00</td>\n",
       "      <td>80.00</td>\n",
       "      <td>85.00</td>\n",
       "      <td>90.00</td>\n",
       "      <td>80.00</td>\n",
       "      <td>85.000000</td>\n",
       "    </tr>\n",
       "    <tr>\n",
       "      <th>7</th>\n",
       "      <td>8</td>\n",
       "      <td>Abhishek Sunil Bhalerao</td>\n",
       "      <td>80.00</td>\n",
       "      <td>76.50</td>\n",
       "      <td>NaN</td>\n",
       "      <td>78.00</td>\n",
       "      <td>90.00</td>\n",
       "      <td>81.125000</td>\n",
       "    </tr>\n",
       "    <tr>\n",
       "      <th>8</th>\n",
       "      <td>9</td>\n",
       "      <td>Atharva Nitin Bhange</td>\n",
       "      <td>75.50</td>\n",
       "      <td>46.80</td>\n",
       "      <td>65.40</td>\n",
       "      <td>86.50</td>\n",
       "      <td>NaN</td>\n",
       "      <td>68.550000</td>\n",
       "    </tr>\n",
       "    <tr>\n",
       "      <th>9</th>\n",
       "      <td>10</td>\n",
       "      <td>Samruddhi bhansali</td>\n",
       "      <td>89.00</td>\n",
       "      <td>NaN</td>\n",
       "      <td>75.40</td>\n",
       "      <td>65.00</td>\n",
       "      <td>80.00</td>\n",
       "      <td>77.350000</td>\n",
       "    </tr>\n",
       "    <tr>\n",
       "      <th>10</th>\n",
       "      <td>11</td>\n",
       "      <td>Kamlesh Vijay Bhavsar</td>\n",
       "      <td>80.35</td>\n",
       "      <td>NaN</td>\n",
       "      <td>NaN</td>\n",
       "      <td>NaN</td>\n",
       "      <td>84.00</td>\n",
       "      <td>82.175000</td>\n",
       "    </tr>\n",
       "    <tr>\n",
       "      <th>11</th>\n",
       "      <td>12</td>\n",
       "      <td>Tejashree Binaykiya</td>\n",
       "      <td>75.64</td>\n",
       "      <td>80.45</td>\n",
       "      <td>84.45</td>\n",
       "      <td>85.00</td>\n",
       "      <td>75.00</td>\n",
       "      <td>80.108000</td>\n",
       "    </tr>\n",
       "    <tr>\n",
       "      <th>12</th>\n",
       "      <td>13</td>\n",
       "      <td>Krushna Chandrakant Borse</td>\n",
       "      <td>NaN</td>\n",
       "      <td>68.40</td>\n",
       "      <td>60.00</td>\n",
       "      <td>46.00</td>\n",
       "      <td>NaN</td>\n",
       "      <td>58.133333</td>\n",
       "    </tr>\n",
       "    <tr>\n",
       "      <th>13</th>\n",
       "      <td>14</td>\n",
       "      <td>Suyam Sanjeev Chaturvedi</td>\n",
       "      <td>80.65</td>\n",
       "      <td>80.40</td>\n",
       "      <td>75.45</td>\n",
       "      <td>80.00</td>\n",
       "      <td>85.00</td>\n",
       "      <td>80.300000</td>\n",
       "    </tr>\n",
       "    <tr>\n",
       "      <th>14</th>\n",
       "      <td>15</td>\n",
       "      <td>Mihir Chaudhary</td>\n",
       "      <td>75.64</td>\n",
       "      <td>45.65</td>\n",
       "      <td>NaN</td>\n",
       "      <td>75.00</td>\n",
       "      <td>75.00</td>\n",
       "      <td>67.822500</td>\n",
       "    </tr>\n",
       "    <tr>\n",
       "      <th>15</th>\n",
       "      <td>16</td>\n",
       "      <td>Sakshi Guruprasad Chavan</td>\n",
       "      <td>NaN</td>\n",
       "      <td>78.40</td>\n",
       "      <td>80.00</td>\n",
       "      <td>NaN</td>\n",
       "      <td>81.00</td>\n",
       "      <td>79.800000</td>\n",
       "    </tr>\n",
       "    <tr>\n",
       "      <th>16</th>\n",
       "      <td>17</td>\n",
       "      <td>Sneha Ramesh Chopde</td>\n",
       "      <td>56.50</td>\n",
       "      <td>45.40</td>\n",
       "      <td>78.45</td>\n",
       "      <td>75.00</td>\n",
       "      <td>NaN</td>\n",
       "      <td>63.837500</td>\n",
       "    </tr>\n",
       "    <tr>\n",
       "      <th>17</th>\n",
       "      <td>18</td>\n",
       "      <td>Ankita Prakash Davande</td>\n",
       "      <td>80.45</td>\n",
       "      <td>75.00</td>\n",
       "      <td>78.00</td>\n",
       "      <td>NaN</td>\n",
       "      <td>78.00</td>\n",
       "      <td>77.862500</td>\n",
       "    </tr>\n",
       "    <tr>\n",
       "      <th>18</th>\n",
       "      <td>19</td>\n",
       "      <td>Vaishnavi Deshmane</td>\n",
       "      <td>75.46</td>\n",
       "      <td>85.40</td>\n",
       "      <td>80.45</td>\n",
       "      <td>78.00</td>\n",
       "      <td>NaN</td>\n",
       "      <td>79.827500</td>\n",
       "    </tr>\n",
       "    <tr>\n",
       "      <th>19</th>\n",
       "      <td>20</td>\n",
       "      <td>Gagandeep Singh Dhindsa</td>\n",
       "      <td>NaN</td>\n",
       "      <td>56.40</td>\n",
       "      <td>70.00</td>\n",
       "      <td>75.00</td>\n",
       "      <td>45.00</td>\n",
       "      <td>61.600000</td>\n",
       "    </tr>\n",
       "    <tr>\n",
       "      <th>20</th>\n",
       "      <td>21</td>\n",
       "      <td>Dotesh Bendale</td>\n",
       "      <td>56.45</td>\n",
       "      <td>NaN</td>\n",
       "      <td>70.00</td>\n",
       "      <td>85.00</td>\n",
       "      <td>64.00</td>\n",
       "      <td>68.862500</td>\n",
       "    </tr>\n",
       "    <tr>\n",
       "      <th>21</th>\n",
       "      <td>22</td>\n",
       "      <td>Sourabh Dubey</td>\n",
       "      <td>65.40</td>\n",
       "      <td>80.40</td>\n",
       "      <td>60.00</td>\n",
       "      <td>45.00</td>\n",
       "      <td>78.00</td>\n",
       "      <td>65.760000</td>\n",
       "    </tr>\n",
       "    <tr>\n",
       "      <th>22</th>\n",
       "      <td>23</td>\n",
       "      <td>Shivam Vilas Gaikwad</td>\n",
       "      <td>86.40</td>\n",
       "      <td>75.40</td>\n",
       "      <td>75.00</td>\n",
       "      <td>86.00</td>\n",
       "      <td>NaN</td>\n",
       "      <td>80.700000</td>\n",
       "    </tr>\n",
       "    <tr>\n",
       "      <th>23</th>\n",
       "      <td>24</td>\n",
       "      <td>Chetan Gamne</td>\n",
       "      <td>NaN</td>\n",
       "      <td>78.00</td>\n",
       "      <td>75.00</td>\n",
       "      <td>75.00</td>\n",
       "      <td>NaN</td>\n",
       "      <td>76.000000</td>\n",
       "    </tr>\n",
       "    <tr>\n",
       "      <th>24</th>\n",
       "      <td>25</td>\n",
       "      <td>Shreyas Balasaheb Gangurde</td>\n",
       "      <td>56.23</td>\n",
       "      <td>50.00</td>\n",
       "      <td>56.00</td>\n",
       "      <td>56.00</td>\n",
       "      <td>47.00</td>\n",
       "      <td>53.046000</td>\n",
       "    </tr>\n",
       "    <tr>\n",
       "      <th>25</th>\n",
       "      <td>26</td>\n",
       "      <td>Pratiksha Ajay Gujrani</td>\n",
       "      <td>75.64</td>\n",
       "      <td>76.40</td>\n",
       "      <td>85.00</td>\n",
       "      <td>78.00</td>\n",
       "      <td>86.00</td>\n",
       "      <td>80.208000</td>\n",
       "    </tr>\n",
       "    <tr>\n",
       "      <th>26</th>\n",
       "      <td>27</td>\n",
       "      <td>ABHISHEK Jadhav</td>\n",
       "      <td>76.40</td>\n",
       "      <td>81.40</td>\n",
       "      <td>45.00</td>\n",
       "      <td>4.00</td>\n",
       "      <td>78.00</td>\n",
       "      <td>56.960000</td>\n",
       "    </tr>\n",
       "    <tr>\n",
       "      <th>27</th>\n",
       "      <td>28</td>\n",
       "      <td>Janhavi Shyam Jadhav</td>\n",
       "      <td>85.40</td>\n",
       "      <td>NaN</td>\n",
       "      <td>78.00</td>\n",
       "      <td>NaN</td>\n",
       "      <td>63.00</td>\n",
       "      <td>75.466667</td>\n",
       "    </tr>\n",
       "    <tr>\n",
       "      <th>28</th>\n",
       "      <td>29</td>\n",
       "      <td>Sanika Kamlakar Jadhav</td>\n",
       "      <td>85.00</td>\n",
       "      <td>75.40</td>\n",
       "      <td>80.00</td>\n",
       "      <td>45.00</td>\n",
       "      <td>NaN</td>\n",
       "      <td>71.350000</td>\n",
       "    </tr>\n",
       "    <tr>\n",
       "      <th>29</th>\n",
       "      <td>30</td>\n",
       "      <td>Sumat Mahavir Jain</td>\n",
       "      <td>65.40</td>\n",
       "      <td>NaN</td>\n",
       "      <td>46.00</td>\n",
       "      <td>85.00</td>\n",
       "      <td>58.00</td>\n",
       "      <td>63.600000</td>\n",
       "    </tr>\n",
       "    <tr>\n",
       "      <th>30</th>\n",
       "      <td>31</td>\n",
       "      <td>Yash Jain</td>\n",
       "      <td>NaN</td>\n",
       "      <td>45.00</td>\n",
       "      <td>78.00</td>\n",
       "      <td>NaN</td>\n",
       "      <td>76.00</td>\n",
       "      <td>66.333333</td>\n",
       "    </tr>\n",
       "    <tr>\n",
       "      <th>31</th>\n",
       "      <td>32</td>\n",
       "      <td>Joshi Rutuja Vishnupant</td>\n",
       "      <td>84.20</td>\n",
       "      <td>75.00</td>\n",
       "      <td>76.00</td>\n",
       "      <td>45.00</td>\n",
       "      <td>77.00</td>\n",
       "      <td>71.440000</td>\n",
       "    </tr>\n",
       "  </tbody>\n",
       "</table>\n",
       "</div>"
      ],
      "text/plain": [
       "    Roll No                        Name    SSC    HSC     FE     SE     TE  \\\n",
       "0         1       Pranjal Rajendra Aher  90.00  80.00  78.00  80.60  78.60   \n",
       "1         2       Ahire Kalpesh Bapurao    NaN  76.40  75.00  74.60  80.64   \n",
       "2         3    Aniket Balasaheb Andhale  78.00    NaN  46.80  75.00  68.00   \n",
       "3         4   Sharayu Chandrakant Avhad  80.00  85.00  84.65  90.65  78.65   \n",
       "4         5    Tushar Dnyaneshwar Avhad  86.00  78.00  78.00    NaN  72.00   \n",
       "5         6          Samruddhi Badgujar    NaN    NaN  46.56    NaN  78.00   \n",
       "6         7  Asmeeta Lalitkumar Bardiya  90.00  80.00  85.00  90.00  80.00   \n",
       "7         8     Abhishek Sunil Bhalerao  80.00  76.50    NaN  78.00  90.00   \n",
       "8         9        Atharva Nitin Bhange  75.50  46.80  65.40  86.50    NaN   \n",
       "9        10          Samruddhi bhansali  89.00    NaN  75.40  65.00  80.00   \n",
       "10       11       Kamlesh Vijay Bhavsar  80.35    NaN    NaN    NaN  84.00   \n",
       "11       12         Tejashree Binaykiya  75.64  80.45  84.45  85.00  75.00   \n",
       "12       13   Krushna Chandrakant Borse    NaN  68.40  60.00  46.00    NaN   \n",
       "13       14    Suyam Sanjeev Chaturvedi  80.65  80.40  75.45  80.00  85.00   \n",
       "14       15             Mihir Chaudhary  75.64  45.65    NaN  75.00  75.00   \n",
       "15       16    Sakshi Guruprasad Chavan    NaN  78.40  80.00    NaN  81.00   \n",
       "16       17        Sneha Ramesh Chopde   56.50  45.40  78.45  75.00    NaN   \n",
       "17       18      Ankita Prakash Davande  80.45  75.00  78.00    NaN  78.00   \n",
       "18       19          Vaishnavi Deshmane  75.46  85.40  80.45  78.00    NaN   \n",
       "19       20     Gagandeep Singh Dhindsa    NaN  56.40  70.00  75.00  45.00   \n",
       "20       21              Dotesh Bendale  56.45    NaN  70.00  85.00  64.00   \n",
       "21       22               Sourabh Dubey  65.40  80.40  60.00  45.00  78.00   \n",
       "22       23        Shivam Vilas Gaikwad  86.40  75.40  75.00  86.00    NaN   \n",
       "23       24                Chetan Gamne    NaN  78.00  75.00  75.00    NaN   \n",
       "24       25  Shreyas Balasaheb Gangurde  56.23  50.00  56.00  56.00  47.00   \n",
       "25       26      Pratiksha Ajay Gujrani  75.64  76.40  85.00  78.00  86.00   \n",
       "26       27            ABHISHEK Jadhav   76.40  81.40  45.00   4.00  78.00   \n",
       "27       28        Janhavi Shyam Jadhav  85.40    NaN  78.00    NaN  63.00   \n",
       "28       29     Sanika Kamlakar Jadhav   85.00  75.40  80.00  45.00    NaN   \n",
       "29       30          Sumat Mahavir Jain  65.40    NaN  46.00  85.00  58.00   \n",
       "30       31                   Yash Jain    NaN  45.00  78.00    NaN  76.00   \n",
       "31       32     Joshi Rutuja Vishnupant  84.20  75.00  76.00  45.00  77.00   \n",
       "\n",
       "          AVG  \n",
       "0   81.440000  \n",
       "1   76.660000  \n",
       "2   66.950000  \n",
       "3   83.790000  \n",
       "4   78.500000  \n",
       "5   62.280000  \n",
       "6   85.000000  \n",
       "7   81.125000  \n",
       "8   68.550000  \n",
       "9   77.350000  \n",
       "10  82.175000  \n",
       "11  80.108000  \n",
       "12  58.133333  \n",
       "13  80.300000  \n",
       "14  67.822500  \n",
       "15  79.800000  \n",
       "16  63.837500  \n",
       "17  77.862500  \n",
       "18  79.827500  \n",
       "19  61.600000  \n",
       "20  68.862500  \n",
       "21  65.760000  \n",
       "22  80.700000  \n",
       "23  76.000000  \n",
       "24  53.046000  \n",
       "25  80.208000  \n",
       "26  56.960000  \n",
       "27  75.466667  \n",
       "28  71.350000  \n",
       "29  63.600000  \n",
       "30  66.333333  \n",
       "31  71.440000  "
      ]
     },
     "execution_count": 27,
     "metadata": {},
     "output_type": "execute_result"
    }
   ],
   "source": [
    "df"
   ]
  },
  {
   "cell_type": "code",
   "execution_count": 28,
   "id": "ee1964f1",
   "metadata": {},
   "outputs": [
    {
     "data": {
      "text/plain": [
       "0     90.00\n",
       "1      0.00\n",
       "2     78.00\n",
       "3     80.00\n",
       "4     86.00\n",
       "5      0.00\n",
       "6     90.00\n",
       "7     80.00\n",
       "8     75.50\n",
       "9     89.00\n",
       "10    80.35\n",
       "11    75.64\n",
       "12     0.00\n",
       "13    80.65\n",
       "14    75.64\n",
       "15     0.00\n",
       "16    56.50\n",
       "17    80.45\n",
       "18    75.46\n",
       "19     0.00\n",
       "20    56.45\n",
       "21    65.40\n",
       "22    86.40\n",
       "23     0.00\n",
       "24    56.23\n",
       "25    75.64\n",
       "26    76.40\n",
       "27    85.40\n",
       "28    85.00\n",
       "29    65.40\n",
       "30     0.00\n",
       "31    84.20\n",
       "Name: SSC, dtype: float64"
      ]
     },
     "execution_count": 28,
     "metadata": {},
     "output_type": "execute_result"
    }
   ],
   "source": [
    "data['SSC']"
   ]
  },
  {
   "cell_type": "code",
   "execution_count": 29,
   "id": "a3beb08b",
   "metadata": {},
   "outputs": [
    {
     "data": {
      "text/plain": [
       "0"
      ]
     },
     "execution_count": 29,
     "metadata": {},
     "output_type": "execute_result"
    }
   ],
   "source": [
    "df.dropna(axis=0,subset=['SSC','FE','HSC','TE'],inplace=True)\n",
    "df['SSC'].isnull().sum()"
   ]
  },
  {
   "cell_type": "code",
   "execution_count": 30,
   "id": "9eaea76a",
   "metadata": {},
   "outputs": [
    {
     "data": {
      "text/html": [
       "<div>\n",
       "<style scoped>\n",
       "    .dataframe tbody tr th:only-of-type {\n",
       "        vertical-align: middle;\n",
       "    }\n",
       "\n",
       "    .dataframe tbody tr th {\n",
       "        vertical-align: top;\n",
       "    }\n",
       "\n",
       "    .dataframe thead th {\n",
       "        text-align: right;\n",
       "    }\n",
       "</style>\n",
       "<table border=\"1\" class=\"dataframe\">\n",
       "  <thead>\n",
       "    <tr style=\"text-align: right;\">\n",
       "      <th></th>\n",
       "      <th>Roll No</th>\n",
       "      <th>Name</th>\n",
       "      <th>SSC</th>\n",
       "      <th>HSC</th>\n",
       "      <th>FE</th>\n",
       "      <th>SE</th>\n",
       "      <th>TE</th>\n",
       "      <th>AVG</th>\n",
       "    </tr>\n",
       "  </thead>\n",
       "  <tbody>\n",
       "    <tr>\n",
       "      <th>0</th>\n",
       "      <td>1</td>\n",
       "      <td>Pranjal Rajendra Aher</td>\n",
       "      <td>90.00</td>\n",
       "      <td>80.00</td>\n",
       "      <td>78.00</td>\n",
       "      <td>80.60</td>\n",
       "      <td>78.60</td>\n",
       "      <td>81.4400</td>\n",
       "    </tr>\n",
       "    <tr>\n",
       "      <th>3</th>\n",
       "      <td>4</td>\n",
       "      <td>Sharayu Chandrakant Avhad</td>\n",
       "      <td>80.00</td>\n",
       "      <td>85.00</td>\n",
       "      <td>84.65</td>\n",
       "      <td>90.65</td>\n",
       "      <td>78.65</td>\n",
       "      <td>83.7900</td>\n",
       "    </tr>\n",
       "    <tr>\n",
       "      <th>4</th>\n",
       "      <td>5</td>\n",
       "      <td>Tushar Dnyaneshwar Avhad</td>\n",
       "      <td>86.00</td>\n",
       "      <td>78.00</td>\n",
       "      <td>78.00</td>\n",
       "      <td>NaN</td>\n",
       "      <td>72.00</td>\n",
       "      <td>78.5000</td>\n",
       "    </tr>\n",
       "    <tr>\n",
       "      <th>6</th>\n",
       "      <td>7</td>\n",
       "      <td>Asmeeta Lalitkumar Bardiya</td>\n",
       "      <td>90.00</td>\n",
       "      <td>80.00</td>\n",
       "      <td>85.00</td>\n",
       "      <td>90.00</td>\n",
       "      <td>80.00</td>\n",
       "      <td>85.0000</td>\n",
       "    </tr>\n",
       "    <tr>\n",
       "      <th>11</th>\n",
       "      <td>12</td>\n",
       "      <td>Tejashree Binaykiya</td>\n",
       "      <td>75.64</td>\n",
       "      <td>80.45</td>\n",
       "      <td>84.45</td>\n",
       "      <td>85.00</td>\n",
       "      <td>75.00</td>\n",
       "      <td>80.1080</td>\n",
       "    </tr>\n",
       "    <tr>\n",
       "      <th>13</th>\n",
       "      <td>14</td>\n",
       "      <td>Suyam Sanjeev Chaturvedi</td>\n",
       "      <td>80.65</td>\n",
       "      <td>80.40</td>\n",
       "      <td>75.45</td>\n",
       "      <td>80.00</td>\n",
       "      <td>85.00</td>\n",
       "      <td>80.3000</td>\n",
       "    </tr>\n",
       "    <tr>\n",
       "      <th>17</th>\n",
       "      <td>18</td>\n",
       "      <td>Ankita Prakash Davande</td>\n",
       "      <td>80.45</td>\n",
       "      <td>75.00</td>\n",
       "      <td>78.00</td>\n",
       "      <td>NaN</td>\n",
       "      <td>78.00</td>\n",
       "      <td>77.8625</td>\n",
       "    </tr>\n",
       "    <tr>\n",
       "      <th>21</th>\n",
       "      <td>22</td>\n",
       "      <td>Sourabh Dubey</td>\n",
       "      <td>65.40</td>\n",
       "      <td>80.40</td>\n",
       "      <td>60.00</td>\n",
       "      <td>45.00</td>\n",
       "      <td>78.00</td>\n",
       "      <td>65.7600</td>\n",
       "    </tr>\n",
       "    <tr>\n",
       "      <th>24</th>\n",
       "      <td>25</td>\n",
       "      <td>Shreyas Balasaheb Gangurde</td>\n",
       "      <td>56.23</td>\n",
       "      <td>50.00</td>\n",
       "      <td>56.00</td>\n",
       "      <td>56.00</td>\n",
       "      <td>47.00</td>\n",
       "      <td>53.0460</td>\n",
       "    </tr>\n",
       "    <tr>\n",
       "      <th>25</th>\n",
       "      <td>26</td>\n",
       "      <td>Pratiksha Ajay Gujrani</td>\n",
       "      <td>75.64</td>\n",
       "      <td>76.40</td>\n",
       "      <td>85.00</td>\n",
       "      <td>78.00</td>\n",
       "      <td>86.00</td>\n",
       "      <td>80.2080</td>\n",
       "    </tr>\n",
       "    <tr>\n",
       "      <th>26</th>\n",
       "      <td>27</td>\n",
       "      <td>ABHISHEK Jadhav</td>\n",
       "      <td>76.40</td>\n",
       "      <td>81.40</td>\n",
       "      <td>45.00</td>\n",
       "      <td>4.00</td>\n",
       "      <td>78.00</td>\n",
       "      <td>56.9600</td>\n",
       "    </tr>\n",
       "    <tr>\n",
       "      <th>31</th>\n",
       "      <td>32</td>\n",
       "      <td>Joshi Rutuja Vishnupant</td>\n",
       "      <td>84.20</td>\n",
       "      <td>75.00</td>\n",
       "      <td>76.00</td>\n",
       "      <td>45.00</td>\n",
       "      <td>77.00</td>\n",
       "      <td>71.4400</td>\n",
       "    </tr>\n",
       "  </tbody>\n",
       "</table>\n",
       "</div>"
      ],
      "text/plain": [
       "    Roll No                        Name    SSC    HSC     FE     SE     TE  \\\n",
       "0         1       Pranjal Rajendra Aher  90.00  80.00  78.00  80.60  78.60   \n",
       "3         4   Sharayu Chandrakant Avhad  80.00  85.00  84.65  90.65  78.65   \n",
       "4         5    Tushar Dnyaneshwar Avhad  86.00  78.00  78.00    NaN  72.00   \n",
       "6         7  Asmeeta Lalitkumar Bardiya  90.00  80.00  85.00  90.00  80.00   \n",
       "11       12         Tejashree Binaykiya  75.64  80.45  84.45  85.00  75.00   \n",
       "13       14    Suyam Sanjeev Chaturvedi  80.65  80.40  75.45  80.00  85.00   \n",
       "17       18      Ankita Prakash Davande  80.45  75.00  78.00    NaN  78.00   \n",
       "21       22               Sourabh Dubey  65.40  80.40  60.00  45.00  78.00   \n",
       "24       25  Shreyas Balasaheb Gangurde  56.23  50.00  56.00  56.00  47.00   \n",
       "25       26      Pratiksha Ajay Gujrani  75.64  76.40  85.00  78.00  86.00   \n",
       "26       27            ABHISHEK Jadhav   76.40  81.40  45.00   4.00  78.00   \n",
       "31       32     Joshi Rutuja Vishnupant  84.20  75.00  76.00  45.00  77.00   \n",
       "\n",
       "        AVG  \n",
       "0   81.4400  \n",
       "3   83.7900  \n",
       "4   78.5000  \n",
       "6   85.0000  \n",
       "11  80.1080  \n",
       "13  80.3000  \n",
       "17  77.8625  \n",
       "21  65.7600  \n",
       "24  53.0460  \n",
       "25  80.2080  \n",
       "26  56.9600  \n",
       "31  71.4400  "
      ]
     },
     "execution_count": 30,
     "metadata": {},
     "output_type": "execute_result"
    }
   ],
   "source": [
    "df"
   ]
  },
  {
   "cell_type": "code",
   "execution_count": 31,
   "id": "1e938c64",
   "metadata": {},
   "outputs": [],
   "source": [
    "df.dropna(axis=1,inplace=True)"
   ]
  },
  {
   "cell_type": "code",
   "execution_count": 32,
   "id": "aba90095",
   "metadata": {},
   "outputs": [
    {
     "data": {
      "text/html": [
       "<div>\n",
       "<style scoped>\n",
       "    .dataframe tbody tr th:only-of-type {\n",
       "        vertical-align: middle;\n",
       "    }\n",
       "\n",
       "    .dataframe tbody tr th {\n",
       "        vertical-align: top;\n",
       "    }\n",
       "\n",
       "    .dataframe thead th {\n",
       "        text-align: right;\n",
       "    }\n",
       "</style>\n",
       "<table border=\"1\" class=\"dataframe\">\n",
       "  <thead>\n",
       "    <tr style=\"text-align: right;\">\n",
       "      <th></th>\n",
       "      <th>Roll No</th>\n",
       "      <th>Name</th>\n",
       "      <th>SSC</th>\n",
       "      <th>HSC</th>\n",
       "      <th>FE</th>\n",
       "      <th>TE</th>\n",
       "      <th>AVG</th>\n",
       "    </tr>\n",
       "  </thead>\n",
       "  <tbody>\n",
       "    <tr>\n",
       "      <th>0</th>\n",
       "      <td>1</td>\n",
       "      <td>Pranjal Rajendra Aher</td>\n",
       "      <td>90.00</td>\n",
       "      <td>80.00</td>\n",
       "      <td>78.00</td>\n",
       "      <td>78.60</td>\n",
       "      <td>81.4400</td>\n",
       "    </tr>\n",
       "    <tr>\n",
       "      <th>3</th>\n",
       "      <td>4</td>\n",
       "      <td>Sharayu Chandrakant Avhad</td>\n",
       "      <td>80.00</td>\n",
       "      <td>85.00</td>\n",
       "      <td>84.65</td>\n",
       "      <td>78.65</td>\n",
       "      <td>83.7900</td>\n",
       "    </tr>\n",
       "    <tr>\n",
       "      <th>4</th>\n",
       "      <td>5</td>\n",
       "      <td>Tushar Dnyaneshwar Avhad</td>\n",
       "      <td>86.00</td>\n",
       "      <td>78.00</td>\n",
       "      <td>78.00</td>\n",
       "      <td>72.00</td>\n",
       "      <td>78.5000</td>\n",
       "    </tr>\n",
       "    <tr>\n",
       "      <th>6</th>\n",
       "      <td>7</td>\n",
       "      <td>Asmeeta Lalitkumar Bardiya</td>\n",
       "      <td>90.00</td>\n",
       "      <td>80.00</td>\n",
       "      <td>85.00</td>\n",
       "      <td>80.00</td>\n",
       "      <td>85.0000</td>\n",
       "    </tr>\n",
       "    <tr>\n",
       "      <th>11</th>\n",
       "      <td>12</td>\n",
       "      <td>Tejashree Binaykiya</td>\n",
       "      <td>75.64</td>\n",
       "      <td>80.45</td>\n",
       "      <td>84.45</td>\n",
       "      <td>75.00</td>\n",
       "      <td>80.1080</td>\n",
       "    </tr>\n",
       "    <tr>\n",
       "      <th>13</th>\n",
       "      <td>14</td>\n",
       "      <td>Suyam Sanjeev Chaturvedi</td>\n",
       "      <td>80.65</td>\n",
       "      <td>80.40</td>\n",
       "      <td>75.45</td>\n",
       "      <td>85.00</td>\n",
       "      <td>80.3000</td>\n",
       "    </tr>\n",
       "    <tr>\n",
       "      <th>17</th>\n",
       "      <td>18</td>\n",
       "      <td>Ankita Prakash Davande</td>\n",
       "      <td>80.45</td>\n",
       "      <td>75.00</td>\n",
       "      <td>78.00</td>\n",
       "      <td>78.00</td>\n",
       "      <td>77.8625</td>\n",
       "    </tr>\n",
       "    <tr>\n",
       "      <th>21</th>\n",
       "      <td>22</td>\n",
       "      <td>Sourabh Dubey</td>\n",
       "      <td>65.40</td>\n",
       "      <td>80.40</td>\n",
       "      <td>60.00</td>\n",
       "      <td>78.00</td>\n",
       "      <td>65.7600</td>\n",
       "    </tr>\n",
       "    <tr>\n",
       "      <th>24</th>\n",
       "      <td>25</td>\n",
       "      <td>Shreyas Balasaheb Gangurde</td>\n",
       "      <td>56.23</td>\n",
       "      <td>50.00</td>\n",
       "      <td>56.00</td>\n",
       "      <td>47.00</td>\n",
       "      <td>53.0460</td>\n",
       "    </tr>\n",
       "    <tr>\n",
       "      <th>25</th>\n",
       "      <td>26</td>\n",
       "      <td>Pratiksha Ajay Gujrani</td>\n",
       "      <td>75.64</td>\n",
       "      <td>76.40</td>\n",
       "      <td>85.00</td>\n",
       "      <td>86.00</td>\n",
       "      <td>80.2080</td>\n",
       "    </tr>\n",
       "    <tr>\n",
       "      <th>26</th>\n",
       "      <td>27</td>\n",
       "      <td>ABHISHEK Jadhav</td>\n",
       "      <td>76.40</td>\n",
       "      <td>81.40</td>\n",
       "      <td>45.00</td>\n",
       "      <td>78.00</td>\n",
       "      <td>56.9600</td>\n",
       "    </tr>\n",
       "    <tr>\n",
       "      <th>31</th>\n",
       "      <td>32</td>\n",
       "      <td>Joshi Rutuja Vishnupant</td>\n",
       "      <td>84.20</td>\n",
       "      <td>75.00</td>\n",
       "      <td>76.00</td>\n",
       "      <td>77.00</td>\n",
       "      <td>71.4400</td>\n",
       "    </tr>\n",
       "  </tbody>\n",
       "</table>\n",
       "</div>"
      ],
      "text/plain": [
       "    Roll No                        Name    SSC    HSC     FE     TE      AVG\n",
       "0         1       Pranjal Rajendra Aher  90.00  80.00  78.00  78.60  81.4400\n",
       "3         4   Sharayu Chandrakant Avhad  80.00  85.00  84.65  78.65  83.7900\n",
       "4         5    Tushar Dnyaneshwar Avhad  86.00  78.00  78.00  72.00  78.5000\n",
       "6         7  Asmeeta Lalitkumar Bardiya  90.00  80.00  85.00  80.00  85.0000\n",
       "11       12         Tejashree Binaykiya  75.64  80.45  84.45  75.00  80.1080\n",
       "13       14    Suyam Sanjeev Chaturvedi  80.65  80.40  75.45  85.00  80.3000\n",
       "17       18      Ankita Prakash Davande  80.45  75.00  78.00  78.00  77.8625\n",
       "21       22               Sourabh Dubey  65.40  80.40  60.00  78.00  65.7600\n",
       "24       25  Shreyas Balasaheb Gangurde  56.23  50.00  56.00  47.00  53.0460\n",
       "25       26      Pratiksha Ajay Gujrani  75.64  76.40  85.00  86.00  80.2080\n",
       "26       27            ABHISHEK Jadhav   76.40  81.40  45.00  78.00  56.9600\n",
       "31       32     Joshi Rutuja Vishnupant  84.20  75.00  76.00  77.00  71.4400"
      ]
     },
     "execution_count": 32,
     "metadata": {},
     "output_type": "execute_result"
    }
   ],
   "source": [
    "df"
   ]
  },
  {
   "cell_type": "markdown",
   "id": "e768e148",
   "metadata": {},
   "source": [
    "# OUTLIERS USING BOXPLOT and SCATTERPLOT"
   ]
  },
  {
   "cell_type": "code",
   "execution_count": 33,
   "id": "6d119dc1",
   "metadata": {},
   "outputs": [
    {
     "data": {
      "text/plain": [
       "{'whiskers': [<matplotlib.lines.Line2D at 0x7f548904ce50>,\n",
       "  <matplotlib.lines.Line2D at 0x7f548884f1f0>],\n",
       " 'caps': [<matplotlib.lines.Line2D at 0x7f548884f550>,\n",
       "  <matplotlib.lines.Line2D at 0x7f548884f8b0>],\n",
       " 'boxes': [<matplotlib.lines.Line2D at 0x7f548904caf0>],\n",
       " 'medians': [<matplotlib.lines.Line2D at 0x7f548884fc10>],\n",
       " 'fliers': [<matplotlib.lines.Line2D at 0x7f548884ff70>],\n",
       " 'means': []}"
      ]
     },
     "execution_count": 33,
     "metadata": {},
     "output_type": "execute_result"
    },
    {
     "data": {
      "image/png": "[encoded data removed]",
      "text/plain": [
       "<Figure size 432x288 with 1 Axes>"
      ]
     },
     "metadata": {
      "needs_background": "light"
     },
     "output_type": "display_data"
    }
   ],
   "source": [
    "plt.boxplot(data['SSC'])"
   ]
  },
  {
   "cell_type": "code",
   "execution_count": 34,
   "id": "60503d4d",
   "metadata": {},
   "outputs": [
    {
     "data": {
      "text/plain": [
       "{'whiskers': [<matplotlib.lines.Line2D at 0x7f548879ac40>,\n",
       "  <matplotlib.lines.Line2D at 0x7f548879afa0>],\n",
       " 'caps': [<matplotlib.lines.Line2D at 0x7f54887a7340>,\n",
       "  <matplotlib.lines.Line2D at 0x7f54887a76a0>],\n",
       " 'boxes': [<matplotlib.lines.Line2D at 0x7f548879a8e0>],\n",
       " 'medians': [<matplotlib.lines.Line2D at 0x7f54887a7a00>],\n",
       " 'fliers': [<matplotlib.lines.Line2D at 0x7f54887a7d90>],\n",
       " 'means': []}"
      ]
     },
     "execution_count": 34,
     "metadata": {},
     "output_type": "execute_result"
    },
    {
     "data": {
      "image/png": "[encoded data removed]",
      "text/plain": [
       "<Figure size 432x288 with 1 Axes>"
      ]
     },
     "metadata": {
      "needs_background": "light"
     },
     "output_type": "display_data"
    }
   ],
   "source": [
    "plt.boxplot(data['HSC'])"
   ]
  },
  {
   "cell_type": "code",
   "execution_count": 35,
   "id": "4f3720ac",
   "metadata": {},
   "outputs": [
    {
     "data": {
      "image/png": "[encoded data removed]",
      "text/plain": [
       "<Figure size 432x288 with 1 Axes>"
      ]
     },
     "metadata": {
      "needs_background": "light"
     },
     "output_type": "display_data"
    }
   ],
   "source": [
    "plt.scatter(x=data['SE'], y=data['TE'])\n",
    "plt.xlabel(\"X-axis -FE\")\n",
    "plt.ylabel(\"Y-axis -TE\")\n",
    "plt.show()"
   ]
  },
  {
   "cell_type": "code",
   "execution_count": 36,
   "id": "70da1e4a",
   "metadata": {},
   "outputs": [
    {
     "name": "stdout",
     "output_type": "stream",
     "text": [
      "(array([12, 21, 26, 28, 31]),)\n"
     ]
    }
   ],
   "source": [
    "print(np.where((data['SE']<50) & (data['TE']>70)))"
   ]
  },
  {
   "cell_type": "code",
   "execution_count": 37,
   "id": "12cd9ee9",
   "metadata": {},
   "outputs": [
    {
     "data": {
      "text/plain": [
       "<AxesSubplot:>"
      ]
     },
     "execution_count": 37,
     "metadata": {},
     "output_type": "execute_result"
    },
    {
     "data": {
      "image/png": "[encoded data removed]",
      "text/plain": [
       "<Figure size 432x288 with 1 Axes>"
      ]
     },
     "metadata": {
      "needs_background": "light"
     },
     "output_type": "display_data"
    }
   ],
   "source": [
    "data.boxplot()"
   ]
  },
  {
   "cell_type": "code",
   "execution_count": 38,
   "id": "a995eed3",
   "metadata": {},
   "outputs": [
    {
     "name": "stdout",
     "output_type": "stream",
     "text": [
      "Outlier for SSC Column: \n",
      "(array([ 1,  5, 12, 15, 16, 19, 20, 23, 24, 30]),)\n"
     ]
    }
   ],
   "source": [
    "print(\"Outlier for SSC Column: \")\n",
    "print(np.where((data['SSC'])<60))"
   ]
  },
  {
   "cell_type": "code",
   "execution_count": 39,
   "id": "03eb7831",
   "metadata": {},
   "outputs": [
    {
     "name": "stdout",
     "output_type": "stream",
     "text": [
      "Outlier for HSC Column: \n",
      "(array([ 8, 14, 16, 19, 24, 30]),)\n"
     ]
    }
   ],
   "source": [
    "print(\"Outlier for HSC Column: \")\n",
    "print(np.where((data['HSC']>=40) & (data['HSC']<=60)))"
   ]
  },
  {
   "cell_type": "code",
   "execution_count": 40,
   "id": "b3d1d5c8",
   "metadata": {},
   "outputs": [
    {
     "name": "stdout",
     "output_type": "stream",
     "text": [
      "Outlier for FE Column: \n",
      "(array([ 7, 10, 14]),)\n"
     ]
    }
   ],
   "source": [
    "print(\"Outlier for FE Column: \")\n",
    "print(np.where((data['FE'])<40))"
   ]
  },
  {
   "cell_type": "code",
   "execution_count": 41,
   "id": "3d5ef168",
   "metadata": {},
   "outputs": [
    {
     "name": "stdout",
     "output_type": "stream",
     "text": [
      "Outlier for SE Column: \n",
      "(array([12, 21, 26, 28, 31]),)\n"
     ]
    }
   ],
   "source": [
    "print(\"Outlier for SE Column: \")\n",
    "print(np.where((data['SE'])<50))"
   ]
  },
  {
   "cell_type": "code",
   "execution_count": 42,
   "id": "c1521922",
   "metadata": {},
   "outputs": [
    {
     "name": "stdout",
     "output_type": "stream",
     "text": [
      "Outlier for TE Column: \n",
      "(array([19, 24, 29]),)\n"
     ]
    }
   ],
   "source": [
    "print(\"Outlier for TE Column: \")\n",
    "print(np.where((data['TE'])<60))"
   ]
  },
  {
   "cell_type": "code",
   "execution_count": 43,
   "id": "7ea0f1c5",
   "metadata": {},
   "outputs": [
    {
     "data": {
      "image/png": "[encoded data removed]",
      "text/plain": [
       "<Figure size 432x288 with 1 Axes>"
      ]
     },
     "metadata": {
      "needs_background": "light"
     },
     "output_type": "display_data"
    }
   ],
   "source": [
    "plt.scatter(x=data[\"SSC\"],y=data[\"HSC\"])\n",
    "plt.xlabel(\"X-axis -SSC\")\n",
    "plt.ylabel(\"Y-axis -HSC\")\n",
    "plt.show()"
   ]
  },
  {
   "cell_type": "code",
   "execution_count": 44,
   "id": "a1930395",
   "metadata": {},
   "outputs": [
    {
     "name": "stdout",
     "output_type": "stream",
     "text": [
      "(array([19, 30]),)\n"
     ]
    }
   ],
   "source": [
    "print(np.where((data['SSC']<40) & (data['HSC']<60)))"
   ]
  },
  {
   "cell_type": "code",
   "execution_count": 45,
   "id": "f6b769b7",
   "metadata": {},
   "outputs": [],
   "source": [
    "ssc_mean=data[\"SSC\"].mean()\n",
    "hsc_mean=data[\"HSC\"].mean()\n",
    "fe_mean=data[\"FE\"].mean()\n",
    "se_mean=data[\"SE\"].mean()\n",
    "te_mean=data[\"TE\"].mean()"
   ]
  },
  {
   "cell_type": "code",
   "execution_count": 46,
   "id": "491fdb43",
   "metadata": {},
   "outputs": [],
   "source": [
    "ssc_std=data[\"SSC\"].std()\n",
    "hsc_std=data[\"HSC\"].std()\n",
    "fe_std=data[\"FE\"].std()\n",
    "se_std=data[\"SE\"].std()\n",
    "te_std=data[\"TE\"].std()"
   ]
  },
  {
   "cell_type": "markdown",
   "id": "3a520a13",
   "metadata": {},
   "source": [
    "# OUTLIERS USING Z_SCORE"
   ]
  },
  {
   "cell_type": "code",
   "execution_count": 47,
   "id": "34361f12",
   "metadata": {},
   "outputs": [
    {
     "name": "stdout",
     "output_type": "stream",
     "text": [
      "[0.89756791 1.8226497  0.53487223 0.59532151 0.77666935 1.8226497\n",
      " 0.89756791 0.59532151 0.45931063 0.86734327 0.60590014 0.46354208\n",
      " 1.8226497  0.61496753 0.46354208 1.8226497  0.11495753 0.6089226\n",
      " 0.45810165 1.8226497  0.11646876 0.15404177 0.78875921 1.8226497\n",
      " 0.12311818 0.46354208 0.48651281 0.75853457 0.74644471 0.15404177\n",
      " 1.8226497  0.722265  ]\n"
     ]
    }
   ],
   "source": [
    "z_ssc = np.abs(stats.zscore(data['SSC']))\n",
    "print(z_ssc)\n"
   ]
  },
  {
   "cell_type": "code",
   "execution_count": 48,
   "id": "68e98bc3",
   "metadata": {},
   "outputs": [
    {
     "name": "stdout",
     "output_type": "stream",
     "text": [
      "0.8195682719485098\n",
      "Outlier in SSC Column: \n",
      "(array([ 2,  3,  4,  7,  8, 10, 11, 13, 14, 16, 17, 18, 20, 21, 22, 24, 25,\n",
      "       26, 27, 28, 29, 31]),)\n"
     ]
    }
   ],
   "source": [
    "x=z_ssc.mean()\n",
    "print(x)\n",
    "print(\"Outlier in SSC Column: \")\n",
    "print(np.where(z_ssc < x))"
   ]
  },
  {
   "cell_type": "code",
   "execution_count": 49,
   "id": "7e391285",
   "metadata": {},
   "outputs": [
    {
     "name": "stdout",
     "output_type": "stream",
     "text": [
      "[7.60630809e-01 4.56107798e-01 1.20209230e-15 1.18357944e+00\n",
      " 5.91451359e-01 1.20209230e-15 7.60630809e-01 4.64566771e-01\n",
      " 2.04774807e+00 1.20209230e-15 1.20209230e-15 7.98696186e-01\n",
      " 2.20610003e-01 7.94466699e-01 2.14502625e+00 6.25287249e-01\n",
      " 2.16617368e+00 3.37682183e-01 1.21741533e+00 1.23568671e+00\n",
      " 1.20209230e-15 7.94466699e-01 3.71518073e-01 5.91451359e-01\n",
      " 1.77706095e+00 4.56107798e-01 8.79056425e-01 1.20209230e-15\n",
      " 3.71518073e-01 1.20209230e-15 2.20000957e+00 3.37682183e-01]\n"
     ]
    }
   ],
   "source": [
    "z_hsc = np.abs(stats.zscore(data['HSC']))\n",
    "print(z_hsc)"
   ]
  },
  {
   "cell_type": "code",
   "execution_count": 50,
   "id": "121ba3c3",
   "metadata": {},
   "outputs": [
    {
     "name": "stdout",
     "output_type": "stream",
     "text": [
      "0.7370197022913132\n",
      "Outlier in HSC Column: \n",
      "(array([ 1,  2,  4,  5,  7,  9, 10, 12, 15, 17, 20, 22, 23, 25, 27, 28, 29,\n",
      "       31]),)\n"
     ]
    }
   ],
   "source": [
    "x=z_hsc.mean()\n",
    "print(x)\n",
    "print(\"Outlier in HSC Column: \")\n",
    "print(np.where(z_hsc < x))"
   ]
  },
  {
   "cell_type": "code",
   "execution_count": 51,
   "id": "ddfa8102",
   "metadata": {},
   "outputs": [
    {
     "name": "stdout",
     "output_type": "stream",
     "text": [
      "[0.56397413 0.43817772 0.74430852 0.84282284 0.56397413 0.75437224\n",
      " 0.85749909 2.70673251 0.03562921 0.45495058 2.70673251 0.83443641\n",
      " 0.19080432 0.45704718 2.70673251 0.6478384  0.58284359 0.56397413\n",
      " 0.66670786 0.22851704 0.22851704 0.19080432 0.43817772 0.43817772\n",
      " 0.35853287 0.85749909 0.81978637 0.56397413 0.6478384  0.77785423\n",
      " 0.56397413 0.48010986]\n"
     ]
    }
   ],
   "source": [
    "z_fe = np.abs(stats.zscore(data['FE']))\n",
    "print(z_fe)"
   ]
  },
  {
   "cell_type": "code",
   "execution_count": 52,
   "id": "217a1a35",
   "metadata": {},
   "outputs": [
    {
     "name": "stdout",
     "output_type": "stream",
     "text": [
      "0.7472912755481156\n",
      "Outlier in FE Column: \n",
      "(array([ 0,  1,  2,  4,  8,  9, 12, 13, 15, 16, 17, 18, 19, 20, 21, 22, 23,\n",
      "       24, 27, 28, 30, 31]),)\n"
     ]
    }
   ],
   "source": [
    "x=z_fe.mean()\n",
    "print(x)\n",
    "print(\"Outlier in FE Column: \")\n",
    "print(np.where(z_fe < x))"
   ]
  },
  {
   "cell_type": "code",
   "execution_count": 53,
   "id": "e64097f9",
   "metadata": {},
   "outputs": [
    {
     "name": "stdout",
     "output_type": "stream",
     "text": [
      "[0.59254105 0.24622834 0.26931585 1.17261484 0.         0.\n",
      " 1.13509763 0.44247221 0.93308188 0.307872   0.         0.8465037\n",
      " 1.40452891 0.55790978 0.26931585 0.         0.26931585 0.\n",
      " 0.44247221 0.26931585 0.8465037  1.4622477  0.90422249 0.26931585\n",
      " 0.82734106 0.44247221 3.82871788 0.         1.4622477  0.8465037\n",
      " 0.         1.4622477 ]\n"
     ]
    }
   ],
   "source": [
    "z_se = np.abs(stats.zscore(data['SE']))\n",
    "print(z_se)"
   ]
  },
  {
   "cell_type": "code",
   "execution_count": 54,
   "id": "7cb643b1",
   "metadata": {},
   "outputs": [
    {
     "name": "stdout",
     "output_type": "stream",
     "text": [
      "0.672200184651148\n",
      "Outlier in SE Column: \n",
      "(array([ 0,  1,  2,  4,  5,  7,  9, 10, 13, 14, 15, 16, 17, 18, 19, 23, 25,\n",
      "       27, 30]),)\n"
     ]
    }
   ],
   "source": [
    "x=z_se.mean()\n",
    "print(x)\n",
    "print(\"Outlier in SE Column: \")\n",
    "print(np.where(z_se < x))"
   ]
  },
  {
   "cell_type": "code",
   "execution_count": 55,
   "id": "5238d844",
   "metadata": {},
   "outputs": [
    {
     "name": "stdout",
     "output_type": "stream",
     "text": [
      "[0.07853596 0.2534533  0.83034828 0.08282315 0.4873731  0.02708968\n",
      " 0.19857727 1.05601523 1.05601523 0.19857727 0.54155246 0.23014171\n",
      " 1.05601523 0.62729625 0.23014171 0.28432107 1.05601523 0.02708968\n",
      " 1.05601523 2.80245559 1.17332347 0.02708968 1.05601523 1.05601523\n",
      " 2.630968   0.71304005 0.02708968 1.25906726 1.05601523 1.68778624\n",
      " 0.14439791 0.05865412]\n"
     ]
    }
   ],
   "source": [
    "z_te = np.abs(stats.zscore(data['TE']))\n",
    "print(z_te)"
   ]
  },
  {
   "cell_type": "code",
   "execution_count": 56,
   "id": "6a177948",
   "metadata": {},
   "outputs": [
    {
     "name": "stdout",
     "output_type": "stream",
     "text": [
      "0.7209160861494527\n",
      "Outlier in TE Column: \n",
      "(array([ 0,  1,  3,  4,  5,  6,  9, 10, 11, 13, 14, 15, 17, 21, 25, 26, 30,\n",
      "       31]),)\n"
     ]
    }
   ],
   "source": [
    "x=z_te.mean()\n",
    "print(x)\n",
    "print(\"Outlier in TE Column: \")\n",
    "print(np.where(z_te < x))"
   ]
  },
  {
   "cell_type": "code",
   "execution_count": 57,
   "id": "c52b8bc9",
   "metadata": {},
   "outputs": [
    {
     "data": {
      "text/html": [
       "<div>\n",
       "<style scoped>\n",
       "    .dataframe tbody tr th:only-of-type {\n",
       "        vertical-align: middle;\n",
       "    }\n",
       "\n",
       "    .dataframe tbody tr th {\n",
       "        vertical-align: top;\n",
       "    }\n",
       "\n",
       "    .dataframe thead th {\n",
       "        text-align: right;\n",
       "    }\n",
       "</style>\n",
       "<table border=\"1\" class=\"dataframe\">\n",
       "  <thead>\n",
       "    <tr style=\"text-align: right;\">\n",
       "      <th></th>\n",
       "      <th>Roll No</th>\n",
       "      <th>SSC</th>\n",
       "      <th>HSC</th>\n",
       "      <th>FE</th>\n",
       "      <th>TE</th>\n",
       "      <th>AVG</th>\n",
       "    </tr>\n",
       "  </thead>\n",
       "  <tbody>\n",
       "    <tr>\n",
       "      <th>count</th>\n",
       "      <td>12.000000</td>\n",
       "      <td>12.000000</td>\n",
       "      <td>12.000000</td>\n",
       "      <td>12.000000</td>\n",
       "      <td>12.000000</td>\n",
       "      <td>12.000000</td>\n",
       "    </tr>\n",
       "    <tr>\n",
       "      <th>mean</th>\n",
       "      <td>16.083333</td>\n",
       "      <td>78.384167</td>\n",
       "      <td>76.837500</td>\n",
       "      <td>73.795833</td>\n",
       "      <td>76.104167</td>\n",
       "      <td>74.534542</td>\n",
       "    </tr>\n",
       "    <tr>\n",
       "      <th>std</th>\n",
       "      <td>10.396313</td>\n",
       "      <td>9.779785</td>\n",
       "      <td>8.915898</td>\n",
       "      <td>13.070533</td>\n",
       "      <td>9.916251</td>\n",
       "      <td>10.545821</td>\n",
       "    </tr>\n",
       "    <tr>\n",
       "      <th>min</th>\n",
       "      <td>1.000000</td>\n",
       "      <td>56.230000</td>\n",
       "      <td>50.000000</td>\n",
       "      <td>45.000000</td>\n",
       "      <td>47.000000</td>\n",
       "      <td>53.046000</td>\n",
       "    </tr>\n",
       "    <tr>\n",
       "      <th>25%</th>\n",
       "      <td>6.500000</td>\n",
       "      <td>75.640000</td>\n",
       "      <td>76.050000</td>\n",
       "      <td>71.587500</td>\n",
       "      <td>76.500000</td>\n",
       "      <td>70.020000</td>\n",
       "    </tr>\n",
       "    <tr>\n",
       "      <th>50%</th>\n",
       "      <td>16.000000</td>\n",
       "      <td>80.225000</td>\n",
       "      <td>80.000000</td>\n",
       "      <td>78.000000</td>\n",
       "      <td>78.000000</td>\n",
       "      <td>79.304000</td>\n",
       "    </tr>\n",
       "    <tr>\n",
       "      <th>75%</th>\n",
       "      <td>25.250000</td>\n",
       "      <td>84.650000</td>\n",
       "      <td>80.412500</td>\n",
       "      <td>84.500000</td>\n",
       "      <td>78.987500</td>\n",
       "      <td>80.585000</td>\n",
       "    </tr>\n",
       "    <tr>\n",
       "      <th>max</th>\n",
       "      <td>32.000000</td>\n",
       "      <td>90.000000</td>\n",
       "      <td>85.000000</td>\n",
       "      <td>85.000000</td>\n",
       "      <td>86.000000</td>\n",
       "      <td>85.000000</td>\n",
       "    </tr>\n",
       "  </tbody>\n",
       "</table>\n",
       "</div>"
      ],
      "text/plain": [
       "         Roll No        SSC        HSC         FE         TE        AVG\n",
       "count  12.000000  12.000000  12.000000  12.000000  12.000000  12.000000\n",
       "mean   16.083333  78.384167  76.837500  73.795833  76.104167  74.534542\n",
       "std    10.396313   9.779785   8.915898  13.070533   9.916251  10.545821\n",
       "min     1.000000  56.230000  50.000000  45.000000  47.000000  53.046000\n",
       "25%     6.500000  75.640000  76.050000  71.587500  76.500000  70.020000\n",
       "50%    16.000000  80.225000  80.000000  78.000000  78.000000  79.304000\n",
       "75%    25.250000  84.650000  80.412500  84.500000  78.987500  80.585000\n",
       "max    32.000000  90.000000  85.000000  85.000000  86.000000  85.000000"
      ]
     },
     "execution_count": 57,
     "metadata": {},
     "output_type": "execute_result"
    }
   ],
   "source": [
    "df.describe()"
   ]
  },
  {
   "cell_type": "markdown",
   "id": "223236f6",
   "metadata": {},
   "source": [
    "# interquartile range"
   ]
  },
  {
   "cell_type": "code",
   "execution_count": 58,
   "id": "a26e4a7f",
   "metadata": {},
   "outputs": [
    {
     "data": {
      "text/plain": [
       "[45.0,\n",
       " 47.0,\n",
       " 58.0,\n",
       " 63.0,\n",
       " 64.0,\n",
       " 68.0,\n",
       " 72.0,\n",
       " 75.0,\n",
       " 75.0,\n",
       " 76.0,\n",
       " 77.0,\n",
       " 78.0,\n",
       " 78.0,\n",
       " 78.0,\n",
       " 78.0,\n",
       " 78.6,\n",
       " 78.65,\n",
       " 80.0,\n",
       " 80.0,\n",
       " 80.64,\n",
       " 81.0,\n",
       " 84.0,\n",
       " 85.0,\n",
       " 86.0,\n",
       " 90.0,\n",
       " 90.0,\n",
       " 90.0,\n",
       " 90.0,\n",
       " 90.0,\n",
       " 90.0,\n",
       " 90.0,\n",
       " 90.0]"
      ]
     },
     "execution_count": 58,
     "metadata": {},
     "output_type": "execute_result"
    }
   ],
   "source": [
    "sortte=sorted(data['TE'])\n",
    "sortte"
   ]
  },
  {
   "cell_type": "code",
   "execution_count": 59,
   "id": "686848df",
   "metadata": {},
   "outputs": [
    {
     "data": {
      "text/plain": [
       "75.0"
      ]
     },
     "execution_count": 59,
     "metadata": {},
     "output_type": "execute_result"
    }
   ],
   "source": [
    "Q1 = np.median(sortte[:16])\n",
    "Q1"
   ]
  },
  {
   "cell_type": "code",
   "execution_count": 60,
   "id": "8fe34b5b",
   "metadata": {},
   "outputs": [
    {
     "data": {
      "text/plain": [
       "88.0"
      ]
     },
     "execution_count": 60,
     "metadata": {},
     "output_type": "execute_result"
    }
   ],
   "source": [
    "Q3 = np.median(sortte[16:])\n",
    "Q3"
   ]
  },
  {
   "cell_type": "code",
   "execution_count": 61,
   "id": "d7087704",
   "metadata": {},
   "outputs": [
    {
     "data": {
      "text/plain": [
       "13.0"
      ]
     },
     "execution_count": 61,
     "metadata": {},
     "output_type": "execute_result"
    }
   ],
   "source": [
    "IQR = Q3 - Q1\n",
    "IQR"
   ]
  },
  {
   "cell_type": "code",
   "execution_count": 62,
   "id": "1f1f2780",
   "metadata": {},
   "outputs": [
    {
     "data": {
      "text/plain": [
       "55.5"
      ]
     },
     "execution_count": 62,
     "metadata": {},
     "output_type": "execute_result"
    }
   ],
   "source": [
    "lower_te = Q1-(1.5 * IQR)\n",
    "lower_te"
   ]
  },
  {
   "cell_type": "code",
   "execution_count": 63,
   "id": "228a6b29",
   "metadata": {},
   "outputs": [
    {
     "data": {
      "text/plain": [
       "107.5"
      ]
     },
     "execution_count": 63,
     "metadata": {},
     "output_type": "execute_result"
    }
   ],
   "source": [
    "upper_te = Q3+(1.5 * IQR)\n",
    "upper_te"
   ]
  },
  {
   "cell_type": "code",
   "execution_count": 64,
   "id": "3a6b6676",
   "metadata": {},
   "outputs": [
    {
     "name": "stdout",
     "output_type": "stream",
     "text": [
      "[45.0, 47.0]\n"
     ]
    }
   ],
   "source": [
    "outlier=[]\n",
    "for i in sortte:\n",
    "    if i<lower_te or i>upper_te:\n",
    "        outlier.append(i)\n",
    "print(outlier)"
   ]
  },
  {
   "cell_type": "code",
   "execution_count": 65,
   "id": "6f602c82",
   "metadata": {},
   "outputs": [
    {
     "data": {
      "text/plain": [
       "[0.0,\n",
       " 0.0,\n",
       " 0.0,\n",
       " 0.0,\n",
       " 0.0,\n",
       " 0.0,\n",
       " 0.0,\n",
       " 56.23,\n",
       " 56.45,\n",
       " 56.5,\n",
       " 65.4,\n",
       " 65.4,\n",
       " 75.46,\n",
       " 75.5,\n",
       " 75.64,\n",
       " 75.64,\n",
       " 75.64,\n",
       " 76.4,\n",
       " 78.0,\n",
       " 80.0,\n",
       " 80.0,\n",
       " 80.35,\n",
       " 80.45,\n",
       " 80.65,\n",
       " 84.2,\n",
       " 85.0,\n",
       " 85.4,\n",
       " 86.0,\n",
       " 86.4,\n",
       " 89.0,\n",
       " 90.0,\n",
       " 90.0]"
      ]
     },
     "execution_count": 65,
     "metadata": {},
     "output_type": "execute_result"
    }
   ],
   "source": [
    "sortssc=sorted(data['SSC'])\n",
    "sortssc"
   ]
  },
  {
   "cell_type": "code",
   "execution_count": 66,
   "id": "f8efad5b",
   "metadata": {},
   "outputs": [
    {
     "data": {
      "text/plain": [
       "56.34"
      ]
     },
     "execution_count": 66,
     "metadata": {},
     "output_type": "execute_result"
    }
   ],
   "source": [
    "Q1 = np.median(sortssc[:16])\n",
    "Q1"
   ]
  },
  {
   "cell_type": "code",
   "execution_count": 67,
   "id": "90571c2e",
   "metadata": {},
   "outputs": [
    {
     "data": {
      "text/plain": [
       "82.42500000000001"
      ]
     },
     "execution_count": 67,
     "metadata": {},
     "output_type": "execute_result"
    }
   ],
   "source": [
    "Q3 = np.median(sortssc[16:])\n",
    "Q3"
   ]
  },
  {
   "cell_type": "code",
   "execution_count": 68,
   "id": "eaf53119",
   "metadata": {},
   "outputs": [
    {
     "data": {
      "text/plain": [
       "26.085000000000008"
      ]
     },
     "execution_count": 68,
     "metadata": {},
     "output_type": "execute_result"
    }
   ],
   "source": [
    "IQR = Q3 - Q1\n",
    "IQR"
   ]
  },
  {
   "cell_type": "code",
   "execution_count": 69,
   "id": "c437d467",
   "metadata": {},
   "outputs": [
    {
     "data": {
      "text/plain": [
       "17.21249999999999"
      ]
     },
     "execution_count": 69,
     "metadata": {},
     "output_type": "execute_result"
    }
   ],
   "source": [
    "lower_ssc = Q1-(1.5 * IQR)\n",
    "lower_ssc"
   ]
  },
  {
   "cell_type": "code",
   "execution_count": 70,
   "id": "a7274202",
   "metadata": {},
   "outputs": [
    {
     "data": {
      "text/plain": [
       "121.55250000000002"
      ]
     },
     "execution_count": 70,
     "metadata": {},
     "output_type": "execute_result"
    }
   ],
   "source": [
    "upper_ssc = Q3+(1.5 * IQR)\n",
    "upper_ssc"
   ]
  },
  {
   "cell_type": "code",
   "execution_count": 71,
   "id": "50ae00f0",
   "metadata": {},
   "outputs": [
    {
     "name": "stdout",
     "output_type": "stream",
     "text": [
      "[0.0, 0.0, 0.0, 0.0, 0.0, 0.0, 0.0]\n"
     ]
    }
   ],
   "source": [
    "outlier=[]\n",
    "for i in sortssc:\n",
    "    if i<lower_ssc or i>upper_ssc:\n",
    "        outlier.append(i)\n",
    "print(outlier)"
   ]
  },
  {
   "cell_type": "code",
   "execution_count": 72,
   "id": "b59b4dcb",
   "metadata": {},
   "outputs": [
    {
     "data": {
      "text/plain": [
       "[0.0,\n",
       " 0.0,\n",
       " 0.0,\n",
       " 45.0,\n",
       " 46.0,\n",
       " 46.56,\n",
       " 46.8,\n",
       " 56.0,\n",
       " 60.0,\n",
       " 60.0,\n",
       " 65.4,\n",
       " 70.0,\n",
       " 70.0,\n",
       " 75.0,\n",
       " 75.0,\n",
       " 75.0,\n",
       " 75.4,\n",
       " 75.45,\n",
       " 76.0,\n",
       " 78.0,\n",
       " 78.0,\n",
       " 78.0,\n",
       " 78.0,\n",
       " 78.0,\n",
       " 78.45,\n",
       " 80.0,\n",
       " 80.0,\n",
       " 80.45,\n",
       " 84.45,\n",
       " 84.65,\n",
       " 85.0,\n",
       " 85.0]"
      ]
     },
     "execution_count": 72,
     "metadata": {},
     "output_type": "execute_result"
    }
   ],
   "source": [
    "sortfe=sorted(data['FE'])\n",
    "sortfe"
   ]
  },
  {
   "cell_type": "code",
   "execution_count": 73,
   "id": "9d684c85",
   "metadata": {},
   "outputs": [
    {
     "data": {
      "text/plain": [
       "58.0"
      ]
     },
     "execution_count": 73,
     "metadata": {},
     "output_type": "execute_result"
    }
   ],
   "source": [
    "Q1 = np.median(sortfe[:16])\n",
    "Q1"
   ]
  },
  {
   "cell_type": "code",
   "execution_count": 74,
   "id": "7e94f0ca",
   "metadata": {},
   "outputs": [
    {
     "data": {
      "text/plain": [
       "78.225"
      ]
     },
     "execution_count": 74,
     "metadata": {},
     "output_type": "execute_result"
    }
   ],
   "source": [
    "Q3 = np.median(sortfe[16:])\n",
    "Q3"
   ]
  },
  {
   "cell_type": "code",
   "execution_count": 75,
   "id": "cd15e03a",
   "metadata": {},
   "outputs": [
    {
     "data": {
      "text/plain": [
       "20.224999999999994"
      ]
     },
     "execution_count": 75,
     "metadata": {},
     "output_type": "execute_result"
    }
   ],
   "source": [
    "IQR = Q3 - Q1\n",
    "IQR"
   ]
  },
  {
   "cell_type": "code",
   "execution_count": 76,
   "id": "9fd061e8",
   "metadata": {},
   "outputs": [
    {
     "data": {
      "text/plain": [
       "27.66250000000001"
      ]
     },
     "execution_count": 76,
     "metadata": {},
     "output_type": "execute_result"
    }
   ],
   "source": [
    "lower_fe = Q1-(1.5 * IQR)\n",
    "lower_fe"
   ]
  },
  {
   "cell_type": "code",
   "execution_count": 77,
   "id": "8a0c3f27",
   "metadata": {},
   "outputs": [
    {
     "data": {
      "text/plain": [
       "108.56249999999999"
      ]
     },
     "execution_count": 77,
     "metadata": {},
     "output_type": "execute_result"
    }
   ],
   "source": [
    "upper_fe = Q3+(1.5 * IQR)\n",
    "upper_fe"
   ]
  },
  {
   "cell_type": "code",
   "execution_count": 78,
   "id": "2abfa547",
   "metadata": {},
   "outputs": [
    {
     "name": "stdout",
     "output_type": "stream",
     "text": [
      "[0.0, 0.0, 0.0]\n"
     ]
    }
   ],
   "source": [
    "outlier=[]\n",
    "for i in sortfe:\n",
    "    if i<lower_fe or i>upper_fe:\n",
    "        outlier.append(i)\n",
    "print(outlier)"
   ]
  },
  {
   "cell_type": "code",
   "execution_count": 79,
   "id": "4d0f23c4",
   "metadata": {
    "scrolled": true
   },
   "outputs": [
    {
     "data": {
      "text/html": [
       "<div>\n",
       "<style scoped>\n",
       "    .dataframe tbody tr th:only-of-type {\n",
       "        vertical-align: middle;\n",
       "    }\n",
       "\n",
       "    .dataframe tbody tr th {\n",
       "        vertical-align: top;\n",
       "    }\n",
       "\n",
       "    .dataframe thead th {\n",
       "        text-align: right;\n",
       "    }\n",
       "</style>\n",
       "<table border=\"1\" class=\"dataframe\">\n",
       "  <thead>\n",
       "    <tr style=\"text-align: right;\">\n",
       "      <th></th>\n",
       "      <th>Roll No</th>\n",
       "      <th>Name</th>\n",
       "      <th>SSC</th>\n",
       "      <th>HSC</th>\n",
       "      <th>FE</th>\n",
       "      <th>SE</th>\n",
       "      <th>TE</th>\n",
       "      <th>AVG</th>\n",
       "    </tr>\n",
       "  </thead>\n",
       "  <tbody>\n",
       "    <tr>\n",
       "      <th>0</th>\n",
       "      <td>1</td>\n",
       "      <td>Pranjal Rajendra Aher</td>\n",
       "      <td>90.00</td>\n",
       "      <td>80.000</td>\n",
       "      <td>78.00</td>\n",
       "      <td>80.600</td>\n",
       "      <td>78.60</td>\n",
       "      <td>81.440000</td>\n",
       "    </tr>\n",
       "    <tr>\n",
       "      <th>1</th>\n",
       "      <td>2</td>\n",
       "      <td>Ahire Kalpesh Bapurao</td>\n",
       "      <td>0.00</td>\n",
       "      <td>76.400</td>\n",
       "      <td>75.00</td>\n",
       "      <td>74.600</td>\n",
       "      <td>80.64</td>\n",
       "      <td>76.660000</td>\n",
       "    </tr>\n",
       "    <tr>\n",
       "      <th>2</th>\n",
       "      <td>3</td>\n",
       "      <td>Aniket Balasaheb Andhale</td>\n",
       "      <td>78.00</td>\n",
       "      <td>71.008</td>\n",
       "      <td>46.80</td>\n",
       "      <td>75.000</td>\n",
       "      <td>68.00</td>\n",
       "      <td>66.950000</td>\n",
       "    </tr>\n",
       "    <tr>\n",
       "      <th>3</th>\n",
       "      <td>4</td>\n",
       "      <td>Sharayu Chandrakant Avhad</td>\n",
       "      <td>80.00</td>\n",
       "      <td>85.000</td>\n",
       "      <td>84.65</td>\n",
       "      <td>90.650</td>\n",
       "      <td>78.65</td>\n",
       "      <td>83.790000</td>\n",
       "    </tr>\n",
       "    <tr>\n",
       "      <th>4</th>\n",
       "      <td>5</td>\n",
       "      <td>Tushar Dnyaneshwar Avhad</td>\n",
       "      <td>86.00</td>\n",
       "      <td>78.000</td>\n",
       "      <td>78.00</td>\n",
       "      <td>70.334</td>\n",
       "      <td>72.00</td>\n",
       "      <td>78.500000</td>\n",
       "    </tr>\n",
       "    <tr>\n",
       "      <th>5</th>\n",
       "      <td>6</td>\n",
       "      <td>Samruddhi Badgujar</td>\n",
       "      <td>0.00</td>\n",
       "      <td>71.008</td>\n",
       "      <td>46.56</td>\n",
       "      <td>70.334</td>\n",
       "      <td>78.00</td>\n",
       "      <td>62.280000</td>\n",
       "    </tr>\n",
       "    <tr>\n",
       "      <th>6</th>\n",
       "      <td>7</td>\n",
       "      <td>Asmeeta Lalitkumar Bardiya</td>\n",
       "      <td>90.00</td>\n",
       "      <td>80.000</td>\n",
       "      <td>85.00</td>\n",
       "      <td>90.000</td>\n",
       "      <td>80.00</td>\n",
       "      <td>85.000000</td>\n",
       "    </tr>\n",
       "    <tr>\n",
       "      <th>7</th>\n",
       "      <td>8</td>\n",
       "      <td>Abhishek Sunil Bhalerao</td>\n",
       "      <td>80.00</td>\n",
       "      <td>76.500</td>\n",
       "      <td>0.00</td>\n",
       "      <td>78.000</td>\n",
       "      <td>90.00</td>\n",
       "      <td>81.125000</td>\n",
       "    </tr>\n",
       "    <tr>\n",
       "      <th>8</th>\n",
       "      <td>9</td>\n",
       "      <td>Atharva Nitin Bhange</td>\n",
       "      <td>75.50</td>\n",
       "      <td>46.800</td>\n",
       "      <td>65.40</td>\n",
       "      <td>86.500</td>\n",
       "      <td>90.00</td>\n",
       "      <td>68.550000</td>\n",
       "    </tr>\n",
       "    <tr>\n",
       "      <th>9</th>\n",
       "      <td>10</td>\n",
       "      <td>Samruddhi bhansali</td>\n",
       "      <td>89.00</td>\n",
       "      <td>71.008</td>\n",
       "      <td>75.40</td>\n",
       "      <td>65.000</td>\n",
       "      <td>80.00</td>\n",
       "      <td>77.350000</td>\n",
       "    </tr>\n",
       "    <tr>\n",
       "      <th>10</th>\n",
       "      <td>11</td>\n",
       "      <td>Kamlesh Vijay Bhavsar</td>\n",
       "      <td>80.35</td>\n",
       "      <td>71.008</td>\n",
       "      <td>0.00</td>\n",
       "      <td>70.334</td>\n",
       "      <td>84.00</td>\n",
       "      <td>82.175000</td>\n",
       "    </tr>\n",
       "    <tr>\n",
       "      <th>11</th>\n",
       "      <td>12</td>\n",
       "      <td>Tejashree Binaykiya</td>\n",
       "      <td>75.64</td>\n",
       "      <td>80.450</td>\n",
       "      <td>84.45</td>\n",
       "      <td>85.000</td>\n",
       "      <td>75.00</td>\n",
       "      <td>80.108000</td>\n",
       "    </tr>\n",
       "    <tr>\n",
       "      <th>12</th>\n",
       "      <td>13</td>\n",
       "      <td>Krushna Chandrakant Borse</td>\n",
       "      <td>0.00</td>\n",
       "      <td>68.400</td>\n",
       "      <td>60.00</td>\n",
       "      <td>46.000</td>\n",
       "      <td>90.00</td>\n",
       "      <td>58.133333</td>\n",
       "    </tr>\n",
       "    <tr>\n",
       "      <th>13</th>\n",
       "      <td>14</td>\n",
       "      <td>Suyam Sanjeev Chaturvedi</td>\n",
       "      <td>80.65</td>\n",
       "      <td>80.400</td>\n",
       "      <td>75.45</td>\n",
       "      <td>80.000</td>\n",
       "      <td>85.00</td>\n",
       "      <td>80.300000</td>\n",
       "    </tr>\n",
       "    <tr>\n",
       "      <th>14</th>\n",
       "      <td>15</td>\n",
       "      <td>Mihir Chaudhary</td>\n",
       "      <td>75.64</td>\n",
       "      <td>45.650</td>\n",
       "      <td>0.00</td>\n",
       "      <td>75.000</td>\n",
       "      <td>75.00</td>\n",
       "      <td>67.822500</td>\n",
       "    </tr>\n",
       "    <tr>\n",
       "      <th>15</th>\n",
       "      <td>16</td>\n",
       "      <td>Sakshi Guruprasad Chavan</td>\n",
       "      <td>0.00</td>\n",
       "      <td>78.400</td>\n",
       "      <td>80.00</td>\n",
       "      <td>70.334</td>\n",
       "      <td>81.00</td>\n",
       "      <td>79.800000</td>\n",
       "    </tr>\n",
       "    <tr>\n",
       "      <th>16</th>\n",
       "      <td>17</td>\n",
       "      <td>Sneha Ramesh Chopde</td>\n",
       "      <td>56.50</td>\n",
       "      <td>45.400</td>\n",
       "      <td>78.45</td>\n",
       "      <td>75.000</td>\n",
       "      <td>90.00</td>\n",
       "      <td>63.837500</td>\n",
       "    </tr>\n",
       "    <tr>\n",
       "      <th>17</th>\n",
       "      <td>18</td>\n",
       "      <td>Ankita Prakash Davande</td>\n",
       "      <td>80.45</td>\n",
       "      <td>75.000</td>\n",
       "      <td>78.00</td>\n",
       "      <td>70.334</td>\n",
       "      <td>78.00</td>\n",
       "      <td>77.862500</td>\n",
       "    </tr>\n",
       "    <tr>\n",
       "      <th>18</th>\n",
       "      <td>19</td>\n",
       "      <td>Vaishnavi Deshmane</td>\n",
       "      <td>75.46</td>\n",
       "      <td>85.400</td>\n",
       "      <td>80.45</td>\n",
       "      <td>78.000</td>\n",
       "      <td>90.00</td>\n",
       "      <td>79.827500</td>\n",
       "    </tr>\n",
       "    <tr>\n",
       "      <th>19</th>\n",
       "      <td>20</td>\n",
       "      <td>Gagandeep Singh Dhindsa</td>\n",
       "      <td>0.00</td>\n",
       "      <td>56.400</td>\n",
       "      <td>70.00</td>\n",
       "      <td>75.000</td>\n",
       "      <td>45.00</td>\n",
       "      <td>61.600000</td>\n",
       "    </tr>\n",
       "    <tr>\n",
       "      <th>20</th>\n",
       "      <td>21</td>\n",
       "      <td>Dotesh Bendale</td>\n",
       "      <td>56.45</td>\n",
       "      <td>71.008</td>\n",
       "      <td>70.00</td>\n",
       "      <td>85.000</td>\n",
       "      <td>64.00</td>\n",
       "      <td>68.862500</td>\n",
       "    </tr>\n",
       "    <tr>\n",
       "      <th>21</th>\n",
       "      <td>22</td>\n",
       "      <td>Sourabh Dubey</td>\n",
       "      <td>65.40</td>\n",
       "      <td>80.400</td>\n",
       "      <td>60.00</td>\n",
       "      <td>45.000</td>\n",
       "      <td>78.00</td>\n",
       "      <td>65.760000</td>\n",
       "    </tr>\n",
       "    <tr>\n",
       "      <th>22</th>\n",
       "      <td>23</td>\n",
       "      <td>Shivam Vilas Gaikwad</td>\n",
       "      <td>86.40</td>\n",
       "      <td>75.400</td>\n",
       "      <td>75.00</td>\n",
       "      <td>86.000</td>\n",
       "      <td>90.00</td>\n",
       "      <td>80.700000</td>\n",
       "    </tr>\n",
       "    <tr>\n",
       "      <th>23</th>\n",
       "      <td>24</td>\n",
       "      <td>Chetan Gamne</td>\n",
       "      <td>0.00</td>\n",
       "      <td>78.000</td>\n",
       "      <td>75.00</td>\n",
       "      <td>75.000</td>\n",
       "      <td>90.00</td>\n",
       "      <td>76.000000</td>\n",
       "    </tr>\n",
       "    <tr>\n",
       "      <th>24</th>\n",
       "      <td>25</td>\n",
       "      <td>Shreyas Balasaheb Gangurde</td>\n",
       "      <td>56.23</td>\n",
       "      <td>50.000</td>\n",
       "      <td>56.00</td>\n",
       "      <td>56.000</td>\n",
       "      <td>47.00</td>\n",
       "      <td>53.046000</td>\n",
       "    </tr>\n",
       "    <tr>\n",
       "      <th>25</th>\n",
       "      <td>26</td>\n",
       "      <td>Pratiksha Ajay Gujrani</td>\n",
       "      <td>75.64</td>\n",
       "      <td>76.400</td>\n",
       "      <td>85.00</td>\n",
       "      <td>78.000</td>\n",
       "      <td>86.00</td>\n",
       "      <td>80.208000</td>\n",
       "    </tr>\n",
       "    <tr>\n",
       "      <th>26</th>\n",
       "      <td>27</td>\n",
       "      <td>ABHISHEK Jadhav</td>\n",
       "      <td>76.40</td>\n",
       "      <td>81.400</td>\n",
       "      <td>45.00</td>\n",
       "      <td>4.000</td>\n",
       "      <td>78.00</td>\n",
       "      <td>56.960000</td>\n",
       "    </tr>\n",
       "    <tr>\n",
       "      <th>27</th>\n",
       "      <td>28</td>\n",
       "      <td>Janhavi Shyam Jadhav</td>\n",
       "      <td>85.40</td>\n",
       "      <td>71.008</td>\n",
       "      <td>78.00</td>\n",
       "      <td>70.334</td>\n",
       "      <td>63.00</td>\n",
       "      <td>75.466667</td>\n",
       "    </tr>\n",
       "    <tr>\n",
       "      <th>28</th>\n",
       "      <td>29</td>\n",
       "      <td>Sanika Kamlakar Jadhav</td>\n",
       "      <td>85.00</td>\n",
       "      <td>75.400</td>\n",
       "      <td>80.00</td>\n",
       "      <td>45.000</td>\n",
       "      <td>90.00</td>\n",
       "      <td>71.350000</td>\n",
       "    </tr>\n",
       "    <tr>\n",
       "      <th>29</th>\n",
       "      <td>30</td>\n",
       "      <td>Sumat Mahavir Jain</td>\n",
       "      <td>65.40</td>\n",
       "      <td>71.008</td>\n",
       "      <td>46.00</td>\n",
       "      <td>85.000</td>\n",
       "      <td>58.00</td>\n",
       "      <td>63.600000</td>\n",
       "    </tr>\n",
       "    <tr>\n",
       "      <th>30</th>\n",
       "      <td>31</td>\n",
       "      <td>Yash Jain</td>\n",
       "      <td>0.00</td>\n",
       "      <td>45.000</td>\n",
       "      <td>78.00</td>\n",
       "      <td>70.334</td>\n",
       "      <td>76.00</td>\n",
       "      <td>66.333333</td>\n",
       "    </tr>\n",
       "    <tr>\n",
       "      <th>31</th>\n",
       "      <td>32</td>\n",
       "      <td>Joshi Rutuja Vishnupant</td>\n",
       "      <td>84.20</td>\n",
       "      <td>75.000</td>\n",
       "      <td>76.00</td>\n",
       "      <td>45.000</td>\n",
       "      <td>77.00</td>\n",
       "      <td>71.440000</td>\n",
       "    </tr>\n",
       "  </tbody>\n",
       "</table>\n",
       "</div>"
      ],
      "text/plain": [
       "    Roll No                        Name    SSC     HSC     FE      SE     TE  \\\n",
       "0         1       Pranjal Rajendra Aher  90.00  80.000  78.00  80.600  78.60   \n",
       "1         2       Ahire Kalpesh Bapurao   0.00  76.400  75.00  74.600  80.64   \n",
       "2         3    Aniket Balasaheb Andhale  78.00  71.008  46.80  75.000  68.00   \n",
       "3         4   Sharayu Chandrakant Avhad  80.00  85.000  84.65  90.650  78.65   \n",
       "4         5    Tushar Dnyaneshwar Avhad  86.00  78.000  78.00  70.334  72.00   \n",
       "5         6          Samruddhi Badgujar   0.00  71.008  46.56  70.334  78.00   \n",
       "6         7  Asmeeta Lalitkumar Bardiya  90.00  80.000  85.00  90.000  80.00   \n",
       "7         8     Abhishek Sunil Bhalerao  80.00  76.500   0.00  78.000  90.00   \n",
       "8         9        Atharva Nitin Bhange  75.50  46.800  65.40  86.500  90.00   \n",
       "9        10          Samruddhi bhansali  89.00  71.008  75.40  65.000  80.00   \n",
       "10       11       Kamlesh Vijay Bhavsar  80.35  71.008   0.00  70.334  84.00   \n",
       "11       12         Tejashree Binaykiya  75.64  80.450  84.45  85.000  75.00   \n",
       "12       13   Krushna Chandrakant Borse   0.00  68.400  60.00  46.000  90.00   \n",
       "13       14    Suyam Sanjeev Chaturvedi  80.65  80.400  75.45  80.000  85.00   \n",
       "14       15             Mihir Chaudhary  75.64  45.650   0.00  75.000  75.00   \n",
       "15       16    Sakshi Guruprasad Chavan   0.00  78.400  80.00  70.334  81.00   \n",
       "16       17        Sneha Ramesh Chopde   56.50  45.400  78.45  75.000  90.00   \n",
       "17       18      Ankita Prakash Davande  80.45  75.000  78.00  70.334  78.00   \n",
       "18       19          Vaishnavi Deshmane  75.46  85.400  80.45  78.000  90.00   \n",
       "19       20     Gagandeep Singh Dhindsa   0.00  56.400  70.00  75.000  45.00   \n",
       "20       21              Dotesh Bendale  56.45  71.008  70.00  85.000  64.00   \n",
       "21       22               Sourabh Dubey  65.40  80.400  60.00  45.000  78.00   \n",
       "22       23        Shivam Vilas Gaikwad  86.40  75.400  75.00  86.000  90.00   \n",
       "23       24                Chetan Gamne   0.00  78.000  75.00  75.000  90.00   \n",
       "24       25  Shreyas Balasaheb Gangurde  56.23  50.000  56.00  56.000  47.00   \n",
       "25       26      Pratiksha Ajay Gujrani  75.64  76.400  85.00  78.000  86.00   \n",
       "26       27            ABHISHEK Jadhav   76.40  81.400  45.00   4.000  78.00   \n",
       "27       28        Janhavi Shyam Jadhav  85.40  71.008  78.00  70.334  63.00   \n",
       "28       29     Sanika Kamlakar Jadhav   85.00  75.400  80.00  45.000  90.00   \n",
       "29       30          Sumat Mahavir Jain  65.40  71.008  46.00  85.000  58.00   \n",
       "30       31                   Yash Jain   0.00  45.000  78.00  70.334  76.00   \n",
       "31       32     Joshi Rutuja Vishnupant  84.20  75.000  76.00  45.000  77.00   \n",
       "\n",
       "          AVG  \n",
       "0   81.440000  \n",
       "1   76.660000  \n",
       "2   66.950000  \n",
       "3   83.790000  \n",
       "4   78.500000  \n",
       "5   62.280000  \n",
       "6   85.000000  \n",
       "7   81.125000  \n",
       "8   68.550000  \n",
       "9   77.350000  \n",
       "10  82.175000  \n",
       "11  80.108000  \n",
       "12  58.133333  \n",
       "13  80.300000  \n",
       "14  67.822500  \n",
       "15  79.800000  \n",
       "16  63.837500  \n",
       "17  77.862500  \n",
       "18  79.827500  \n",
       "19  61.600000  \n",
       "20  68.862500  \n",
       "21  65.760000  \n",
       "22  80.700000  \n",
       "23  76.000000  \n",
       "24  53.046000  \n",
       "25  80.208000  \n",
       "26  56.960000  \n",
       "27  75.466667  \n",
       "28  71.350000  \n",
       "29  63.600000  \n",
       "30  66.333333  \n",
       "31  71.440000  "
      ]
     },
     "execution_count": 79,
     "metadata": {},
     "output_type": "execute_result"
    }
   ],
   "source": [
    "data"
   ]
  },
  {
   "cell_type": "code",
   "execution_count": 80,
   "id": "7f7bb043",
   "metadata": {},
   "outputs": [
    {
     "data": {
      "text/plain": [
       "[45.0,\n",
       " 45.4,\n",
       " 45.65,\n",
       " 46.8,\n",
       " 50.0,\n",
       " 56.4,\n",
       " 68.4,\n",
       " 71.00800000000002,\n",
       " 71.00800000000002,\n",
       " 71.00800000000002,\n",
       " 71.00800000000002,\n",
       " 71.00800000000002,\n",
       " 71.00800000000002,\n",
       " 71.00800000000002,\n",
       " 75.0,\n",
       " 75.0,\n",
       " 75.4,\n",
       " 75.4,\n",
       " 76.4,\n",
       " 76.4,\n",
       " 76.5,\n",
       " 78.0,\n",
       " 78.0,\n",
       " 78.4,\n",
       " 80.0,\n",
       " 80.0,\n",
       " 80.4,\n",
       " 80.4,\n",
       " 80.45,\n",
       " 81.4,\n",
       " 85.0,\n",
       " 85.4]"
      ]
     },
     "execution_count": 80,
     "metadata": {},
     "output_type": "execute_result"
    }
   ],
   "source": [
    "sorthsc=sorted(data['HSC'])\n",
    "sorthsc"
   ]
  },
  {
   "cell_type": "code",
   "execution_count": 81,
   "id": "74fd15ea",
   "metadata": {},
   "outputs": [
    {
     "data": {
      "text/plain": [
       "71.00800000000002"
      ]
     },
     "execution_count": 81,
     "metadata": {},
     "output_type": "execute_result"
    }
   ],
   "source": [
    "Q1 = np.median(sorthsc[:16])\n",
    "Q1"
   ]
  },
  {
   "cell_type": "code",
   "execution_count": 82,
   "id": "2fd3c750",
   "metadata": {},
   "outputs": [
    {
     "data": {
      "text/plain": [
       "79.2"
      ]
     },
     "execution_count": 82,
     "metadata": {},
     "output_type": "execute_result"
    }
   ],
   "source": [
    "Q3 = np.median(sorthsc[16:])\n",
    "Q3"
   ]
  },
  {
   "cell_type": "code",
   "execution_count": 83,
   "id": "55c3c498",
   "metadata": {},
   "outputs": [
    {
     "data": {
      "text/plain": [
       "8.191999999999979"
      ]
     },
     "execution_count": 83,
     "metadata": {},
     "output_type": "execute_result"
    }
   ],
   "source": [
    "IQR = Q3 - Q1\n",
    "IQR"
   ]
  },
  {
   "cell_type": "code",
   "execution_count": 84,
   "id": "1618f34a",
   "metadata": {},
   "outputs": [
    {
     "data": {
      "text/plain": [
       "58.720000000000056"
      ]
     },
     "execution_count": 84,
     "metadata": {},
     "output_type": "execute_result"
    }
   ],
   "source": [
    "lower_hsc = Q1-(1.5 * IQR)\n",
    "lower_hsc"
   ]
  },
  {
   "cell_type": "code",
   "execution_count": 85,
   "id": "fa15288b",
   "metadata": {},
   "outputs": [
    {
     "data": {
      "text/plain": [
       "91.48799999999997"
      ]
     },
     "execution_count": 85,
     "metadata": {},
     "output_type": "execute_result"
    }
   ],
   "source": [
    "upper_hsc = Q3+(1.5 * IQR)\n",
    "upper_hsc"
   ]
  },
  {
   "cell_type": "code",
   "execution_count": 86,
   "id": "b339055e",
   "metadata": {},
   "outputs": [
    {
     "name": "stdout",
     "output_type": "stream",
     "text": [
      "[45.0, 45.4, 45.65, 46.8, 50.0, 56.4]\n"
     ]
    }
   ],
   "source": [
    "outlier=[]\n",
    "for i in sorthsc:\n",
    "    if i<lower_hsc or i>upper_hsc:\n",
    "        outlier.append(i)\n",
    "print(outlier)"
   ]
  },
  {
   "cell_type": "code",
   "execution_count": 87,
   "id": "1eb4805b",
   "metadata": {},
   "outputs": [
    {
     "data": {
      "text/plain": [
       "[4.0,\n",
       " 45.0,\n",
       " 45.0,\n",
       " 45.0,\n",
       " 46.0,\n",
       " 56.0,\n",
       " 65.0,\n",
       " 70.334,\n",
       " 70.334,\n",
       " 70.334,\n",
       " 70.334,\n",
       " 70.334,\n",
       " 70.334,\n",
       " 70.334,\n",
       " 74.6,\n",
       " 75.0,\n",
       " 75.0,\n",
       " 75.0,\n",
       " 75.0,\n",
       " 75.0,\n",
       " 78.0,\n",
       " 78.0,\n",
       " 78.0,\n",
       " 80.0,\n",
       " 80.6,\n",
       " 85.0,\n",
       " 85.0,\n",
       " 85.0,\n",
       " 86.0,\n",
       " 86.5,\n",
       " 90.0,\n",
       " 90.65]"
      ]
     },
     "execution_count": 87,
     "metadata": {},
     "output_type": "execute_result"
    }
   ],
   "source": [
    "sortse=sorted(data['SE'])\n",
    "sortse"
   ]
  },
  {
   "cell_type": "code",
   "execution_count": 88,
   "id": "bc1a6394",
   "metadata": {},
   "outputs": [
    {
     "data": {
      "text/plain": [
       "70.334"
      ]
     },
     "execution_count": 88,
     "metadata": {},
     "output_type": "execute_result"
    }
   ],
   "source": [
    "Q1 = np.median(sortse[:16])\n",
    "Q1"
   ]
  },
  {
   "cell_type": "code",
   "execution_count": 89,
   "id": "c7caf088",
   "metadata": {},
   "outputs": [
    {
     "data": {
      "text/plain": [
       "80.3"
      ]
     },
     "execution_count": 89,
     "metadata": {},
     "output_type": "execute_result"
    }
   ],
   "source": [
    "Q3 = np.median(sortse[16:])\n",
    "Q3"
   ]
  },
  {
   "cell_type": "code",
   "execution_count": 90,
   "id": "30beac40",
   "metadata": {},
   "outputs": [
    {
     "data": {
      "text/plain": [
       "9.965999999999994"
      ]
     },
     "execution_count": 90,
     "metadata": {},
     "output_type": "execute_result"
    }
   ],
   "source": [
    "IQR = Q3 - Q1\n",
    "IQR"
   ]
  },
  {
   "cell_type": "code",
   "execution_count": 91,
   "id": "2cb95e99",
   "metadata": {},
   "outputs": [
    {
     "data": {
      "text/plain": [
       "55.38500000000001"
      ]
     },
     "execution_count": 91,
     "metadata": {},
     "output_type": "execute_result"
    }
   ],
   "source": [
    "lower_se = Q1-(1.5 * IQR)\n",
    "lower_se"
   ]
  },
  {
   "cell_type": "code",
   "execution_count": 92,
   "id": "ee50ba9f",
   "metadata": {},
   "outputs": [
    {
     "data": {
      "text/plain": [
       "95.249"
      ]
     },
     "execution_count": 92,
     "metadata": {},
     "output_type": "execute_result"
    }
   ],
   "source": [
    "upper_se = Q3+(1.5 * IQR)\n",
    "upper_se"
   ]
  },
  {
   "cell_type": "code",
   "execution_count": 93,
   "id": "2bdb947e",
   "metadata": {},
   "outputs": [
    {
     "name": "stdout",
     "output_type": "stream",
     "text": [
      "[4.0, 45.0, 45.0, 45.0, 46.0]\n"
     ]
    }
   ],
   "source": [
    "outlier=[]\n",
    "for i in sortse:\n",
    "    if i<lower_se or i>upper_se:\n",
    "        outlier.append(i)\n",
    "print(outlier)"
   ]
  },
  {
   "cell_type": "code",
   "execution_count": 94,
   "id": "2cf50db9",
   "metadata": {},
   "outputs": [
    {
     "data": {
      "text/plain": [
       "(array([], dtype=int64),)"
      ]
     },
     "execution_count": 94,
     "metadata": {},
     "output_type": "execute_result"
    }
   ],
   "source": [
    "upper = np.where(data['SE'] >= (upper_se))\n",
    "upper"
   ]
  },
  {
   "cell_type": "code",
   "execution_count": 95,
   "id": "69c3a19b",
   "metadata": {},
   "outputs": [
    {
     "data": {
      "text/plain": [
       "(array([12, 21, 26, 28, 31]),)"
      ]
     },
     "execution_count": 95,
     "metadata": {},
     "output_type": "execute_result"
    }
   ],
   "source": [
    "lower = np.where(data['SE'] <= (lower_se))\n",
    "lower"
   ]
  },
  {
   "cell_type": "code",
   "execution_count": 96,
   "id": "3462741d",
   "metadata": {},
   "outputs": [
    {
     "data": {
      "text/html": [
       "<div>\n",
       "<style scoped>\n",
       "    .dataframe tbody tr th:only-of-type {\n",
       "        vertical-align: middle;\n",
       "    }\n",
       "\n",
       "    .dataframe tbody tr th {\n",
       "        vertical-align: top;\n",
       "    }\n",
       "\n",
       "    .dataframe thead th {\n",
       "        text-align: right;\n",
       "    }\n",
       "</style>\n",
       "<table border=\"1\" class=\"dataframe\">\n",
       "  <thead>\n",
       "    <tr style=\"text-align: right;\">\n",
       "      <th></th>\n",
       "      <th>Roll No</th>\n",
       "      <th>Name</th>\n",
       "      <th>SSC</th>\n",
       "      <th>HSC</th>\n",
       "      <th>FE</th>\n",
       "      <th>SE</th>\n",
       "      <th>TE</th>\n",
       "      <th>AVG</th>\n",
       "    </tr>\n",
       "  </thead>\n",
       "  <tbody>\n",
       "    <tr>\n",
       "      <th>0</th>\n",
       "      <td>1</td>\n",
       "      <td>Pranjal Rajendra Aher</td>\n",
       "      <td>90.00</td>\n",
       "      <td>80.000</td>\n",
       "      <td>78.00</td>\n",
       "      <td>80.600</td>\n",
       "      <td>78.60</td>\n",
       "      <td>81.440000</td>\n",
       "    </tr>\n",
       "    <tr>\n",
       "      <th>1</th>\n",
       "      <td>2</td>\n",
       "      <td>Ahire Kalpesh Bapurao</td>\n",
       "      <td>0.00</td>\n",
       "      <td>76.400</td>\n",
       "      <td>75.00</td>\n",
       "      <td>74.600</td>\n",
       "      <td>80.64</td>\n",
       "      <td>76.660000</td>\n",
       "    </tr>\n",
       "    <tr>\n",
       "      <th>2</th>\n",
       "      <td>3</td>\n",
       "      <td>Aniket Balasaheb Andhale</td>\n",
       "      <td>78.00</td>\n",
       "      <td>71.008</td>\n",
       "      <td>46.80</td>\n",
       "      <td>75.000</td>\n",
       "      <td>68.00</td>\n",
       "      <td>66.950000</td>\n",
       "    </tr>\n",
       "    <tr>\n",
       "      <th>3</th>\n",
       "      <td>4</td>\n",
       "      <td>Sharayu Chandrakant Avhad</td>\n",
       "      <td>80.00</td>\n",
       "      <td>85.000</td>\n",
       "      <td>84.65</td>\n",
       "      <td>90.650</td>\n",
       "      <td>78.65</td>\n",
       "      <td>83.790000</td>\n",
       "    </tr>\n",
       "    <tr>\n",
       "      <th>4</th>\n",
       "      <td>5</td>\n",
       "      <td>Tushar Dnyaneshwar Avhad</td>\n",
       "      <td>86.00</td>\n",
       "      <td>78.000</td>\n",
       "      <td>78.00</td>\n",
       "      <td>70.334</td>\n",
       "      <td>72.00</td>\n",
       "      <td>78.500000</td>\n",
       "    </tr>\n",
       "    <tr>\n",
       "      <th>5</th>\n",
       "      <td>6</td>\n",
       "      <td>Samruddhi Badgujar</td>\n",
       "      <td>0.00</td>\n",
       "      <td>71.008</td>\n",
       "      <td>46.56</td>\n",
       "      <td>70.334</td>\n",
       "      <td>78.00</td>\n",
       "      <td>62.280000</td>\n",
       "    </tr>\n",
       "    <tr>\n",
       "      <th>6</th>\n",
       "      <td>7</td>\n",
       "      <td>Asmeeta Lalitkumar Bardiya</td>\n",
       "      <td>90.00</td>\n",
       "      <td>80.000</td>\n",
       "      <td>85.00</td>\n",
       "      <td>90.000</td>\n",
       "      <td>80.00</td>\n",
       "      <td>85.000000</td>\n",
       "    </tr>\n",
       "    <tr>\n",
       "      <th>7</th>\n",
       "      <td>8</td>\n",
       "      <td>Abhishek Sunil Bhalerao</td>\n",
       "      <td>80.00</td>\n",
       "      <td>76.500</td>\n",
       "      <td>0.00</td>\n",
       "      <td>78.000</td>\n",
       "      <td>90.00</td>\n",
       "      <td>81.125000</td>\n",
       "    </tr>\n",
       "    <tr>\n",
       "      <th>8</th>\n",
       "      <td>9</td>\n",
       "      <td>Atharva Nitin Bhange</td>\n",
       "      <td>75.50</td>\n",
       "      <td>46.800</td>\n",
       "      <td>65.40</td>\n",
       "      <td>86.500</td>\n",
       "      <td>90.00</td>\n",
       "      <td>68.550000</td>\n",
       "    </tr>\n",
       "    <tr>\n",
       "      <th>9</th>\n",
       "      <td>10</td>\n",
       "      <td>Samruddhi bhansali</td>\n",
       "      <td>89.00</td>\n",
       "      <td>71.008</td>\n",
       "      <td>75.40</td>\n",
       "      <td>65.000</td>\n",
       "      <td>80.00</td>\n",
       "      <td>77.350000</td>\n",
       "    </tr>\n",
       "    <tr>\n",
       "      <th>10</th>\n",
       "      <td>11</td>\n",
       "      <td>Kamlesh Vijay Bhavsar</td>\n",
       "      <td>80.35</td>\n",
       "      <td>71.008</td>\n",
       "      <td>0.00</td>\n",
       "      <td>70.334</td>\n",
       "      <td>84.00</td>\n",
       "      <td>82.175000</td>\n",
       "    </tr>\n",
       "    <tr>\n",
       "      <th>11</th>\n",
       "      <td>12</td>\n",
       "      <td>Tejashree Binaykiya</td>\n",
       "      <td>75.64</td>\n",
       "      <td>80.450</td>\n",
       "      <td>84.45</td>\n",
       "      <td>85.000</td>\n",
       "      <td>75.00</td>\n",
       "      <td>80.108000</td>\n",
       "    </tr>\n",
       "    <tr>\n",
       "      <th>12</th>\n",
       "      <td>13</td>\n",
       "      <td>Krushna Chandrakant Borse</td>\n",
       "      <td>0.00</td>\n",
       "      <td>68.400</td>\n",
       "      <td>60.00</td>\n",
       "      <td>46.000</td>\n",
       "      <td>90.00</td>\n",
       "      <td>58.133333</td>\n",
       "    </tr>\n",
       "    <tr>\n",
       "      <th>13</th>\n",
       "      <td>14</td>\n",
       "      <td>Suyam Sanjeev Chaturvedi</td>\n",
       "      <td>80.65</td>\n",
       "      <td>80.400</td>\n",
       "      <td>75.45</td>\n",
       "      <td>80.000</td>\n",
       "      <td>85.00</td>\n",
       "      <td>80.300000</td>\n",
       "    </tr>\n",
       "    <tr>\n",
       "      <th>14</th>\n",
       "      <td>15</td>\n",
       "      <td>Mihir Chaudhary</td>\n",
       "      <td>75.64</td>\n",
       "      <td>45.650</td>\n",
       "      <td>0.00</td>\n",
       "      <td>75.000</td>\n",
       "      <td>75.00</td>\n",
       "      <td>67.822500</td>\n",
       "    </tr>\n",
       "    <tr>\n",
       "      <th>15</th>\n",
       "      <td>16</td>\n",
       "      <td>Sakshi Guruprasad Chavan</td>\n",
       "      <td>0.00</td>\n",
       "      <td>78.400</td>\n",
       "      <td>80.00</td>\n",
       "      <td>70.334</td>\n",
       "      <td>81.00</td>\n",
       "      <td>79.800000</td>\n",
       "    </tr>\n",
       "    <tr>\n",
       "      <th>16</th>\n",
       "      <td>17</td>\n",
       "      <td>Sneha Ramesh Chopde</td>\n",
       "      <td>56.50</td>\n",
       "      <td>45.400</td>\n",
       "      <td>78.45</td>\n",
       "      <td>75.000</td>\n",
       "      <td>90.00</td>\n",
       "      <td>63.837500</td>\n",
       "    </tr>\n",
       "    <tr>\n",
       "      <th>17</th>\n",
       "      <td>18</td>\n",
       "      <td>Ankita Prakash Davande</td>\n",
       "      <td>80.45</td>\n",
       "      <td>75.000</td>\n",
       "      <td>78.00</td>\n",
       "      <td>70.334</td>\n",
       "      <td>78.00</td>\n",
       "      <td>77.862500</td>\n",
       "    </tr>\n",
       "    <tr>\n",
       "      <th>18</th>\n",
       "      <td>19</td>\n",
       "      <td>Vaishnavi Deshmane</td>\n",
       "      <td>75.46</td>\n",
       "      <td>85.400</td>\n",
       "      <td>80.45</td>\n",
       "      <td>78.000</td>\n",
       "      <td>90.00</td>\n",
       "      <td>79.827500</td>\n",
       "    </tr>\n",
       "    <tr>\n",
       "      <th>19</th>\n",
       "      <td>20</td>\n",
       "      <td>Gagandeep Singh Dhindsa</td>\n",
       "      <td>0.00</td>\n",
       "      <td>56.400</td>\n",
       "      <td>70.00</td>\n",
       "      <td>75.000</td>\n",
       "      <td>45.00</td>\n",
       "      <td>61.600000</td>\n",
       "    </tr>\n",
       "    <tr>\n",
       "      <th>20</th>\n",
       "      <td>21</td>\n",
       "      <td>Dotesh Bendale</td>\n",
       "      <td>56.45</td>\n",
       "      <td>71.008</td>\n",
       "      <td>70.00</td>\n",
       "      <td>85.000</td>\n",
       "      <td>64.00</td>\n",
       "      <td>68.862500</td>\n",
       "    </tr>\n",
       "    <tr>\n",
       "      <th>21</th>\n",
       "      <td>22</td>\n",
       "      <td>Sourabh Dubey</td>\n",
       "      <td>65.40</td>\n",
       "      <td>80.400</td>\n",
       "      <td>60.00</td>\n",
       "      <td>45.000</td>\n",
       "      <td>78.00</td>\n",
       "      <td>65.760000</td>\n",
       "    </tr>\n",
       "    <tr>\n",
       "      <th>22</th>\n",
       "      <td>23</td>\n",
       "      <td>Shivam Vilas Gaikwad</td>\n",
       "      <td>86.40</td>\n",
       "      <td>75.400</td>\n",
       "      <td>75.00</td>\n",
       "      <td>86.000</td>\n",
       "      <td>90.00</td>\n",
       "      <td>80.700000</td>\n",
       "    </tr>\n",
       "    <tr>\n",
       "      <th>23</th>\n",
       "      <td>24</td>\n",
       "      <td>Chetan Gamne</td>\n",
       "      <td>0.00</td>\n",
       "      <td>78.000</td>\n",
       "      <td>75.00</td>\n",
       "      <td>75.000</td>\n",
       "      <td>90.00</td>\n",
       "      <td>76.000000</td>\n",
       "    </tr>\n",
       "    <tr>\n",
       "      <th>24</th>\n",
       "      <td>25</td>\n",
       "      <td>Shreyas Balasaheb Gangurde</td>\n",
       "      <td>56.23</td>\n",
       "      <td>50.000</td>\n",
       "      <td>56.00</td>\n",
       "      <td>56.000</td>\n",
       "      <td>47.00</td>\n",
       "      <td>53.046000</td>\n",
       "    </tr>\n",
       "    <tr>\n",
       "      <th>25</th>\n",
       "      <td>26</td>\n",
       "      <td>Pratiksha Ajay Gujrani</td>\n",
       "      <td>75.64</td>\n",
       "      <td>76.400</td>\n",
       "      <td>85.00</td>\n",
       "      <td>78.000</td>\n",
       "      <td>86.00</td>\n",
       "      <td>80.208000</td>\n",
       "    </tr>\n",
       "    <tr>\n",
       "      <th>26</th>\n",
       "      <td>27</td>\n",
       "      <td>ABHISHEK Jadhav</td>\n",
       "      <td>76.40</td>\n",
       "      <td>81.400</td>\n",
       "      <td>45.00</td>\n",
       "      <td>4.000</td>\n",
       "      <td>78.00</td>\n",
       "      <td>56.960000</td>\n",
       "    </tr>\n",
       "    <tr>\n",
       "      <th>27</th>\n",
       "      <td>28</td>\n",
       "      <td>Janhavi Shyam Jadhav</td>\n",
       "      <td>85.40</td>\n",
       "      <td>71.008</td>\n",
       "      <td>78.00</td>\n",
       "      <td>70.334</td>\n",
       "      <td>63.00</td>\n",
       "      <td>75.466667</td>\n",
       "    </tr>\n",
       "    <tr>\n",
       "      <th>28</th>\n",
       "      <td>29</td>\n",
       "      <td>Sanika Kamlakar Jadhav</td>\n",
       "      <td>85.00</td>\n",
       "      <td>75.400</td>\n",
       "      <td>80.00</td>\n",
       "      <td>45.000</td>\n",
       "      <td>90.00</td>\n",
       "      <td>71.350000</td>\n",
       "    </tr>\n",
       "    <tr>\n",
       "      <th>29</th>\n",
       "      <td>30</td>\n",
       "      <td>Sumat Mahavir Jain</td>\n",
       "      <td>65.40</td>\n",
       "      <td>71.008</td>\n",
       "      <td>46.00</td>\n",
       "      <td>85.000</td>\n",
       "      <td>58.00</td>\n",
       "      <td>63.600000</td>\n",
       "    </tr>\n",
       "    <tr>\n",
       "      <th>30</th>\n",
       "      <td>31</td>\n",
       "      <td>Yash Jain</td>\n",
       "      <td>0.00</td>\n",
       "      <td>45.000</td>\n",
       "      <td>78.00</td>\n",
       "      <td>70.334</td>\n",
       "      <td>76.00</td>\n",
       "      <td>66.333333</td>\n",
       "    </tr>\n",
       "    <tr>\n",
       "      <th>31</th>\n",
       "      <td>32</td>\n",
       "      <td>Joshi Rutuja Vishnupant</td>\n",
       "      <td>84.20</td>\n",
       "      <td>75.000</td>\n",
       "      <td>76.00</td>\n",
       "      <td>45.000</td>\n",
       "      <td>77.00</td>\n",
       "      <td>71.440000</td>\n",
       "    </tr>\n",
       "  </tbody>\n",
       "</table>\n",
       "</div>"
      ],
      "text/plain": [
       "    Roll No                        Name    SSC     HSC     FE      SE     TE  \\\n",
       "0         1       Pranjal Rajendra Aher  90.00  80.000  78.00  80.600  78.60   \n",
       "1         2       Ahire Kalpesh Bapurao   0.00  76.400  75.00  74.600  80.64   \n",
       "2         3    Aniket Balasaheb Andhale  78.00  71.008  46.80  75.000  68.00   \n",
       "3         4   Sharayu Chandrakant Avhad  80.00  85.000  84.65  90.650  78.65   \n",
       "4         5    Tushar Dnyaneshwar Avhad  86.00  78.000  78.00  70.334  72.00   \n",
       "5         6          Samruddhi Badgujar   0.00  71.008  46.56  70.334  78.00   \n",
       "6         7  Asmeeta Lalitkumar Bardiya  90.00  80.000  85.00  90.000  80.00   \n",
       "7         8     Abhishek Sunil Bhalerao  80.00  76.500   0.00  78.000  90.00   \n",
       "8         9        Atharva Nitin Bhange  75.50  46.800  65.40  86.500  90.00   \n",
       "9        10          Samruddhi bhansali  89.00  71.008  75.40  65.000  80.00   \n",
       "10       11       Kamlesh Vijay Bhavsar  80.35  71.008   0.00  70.334  84.00   \n",
       "11       12         Tejashree Binaykiya  75.64  80.450  84.45  85.000  75.00   \n",
       "12       13   Krushna Chandrakant Borse   0.00  68.400  60.00  46.000  90.00   \n",
       "13       14    Suyam Sanjeev Chaturvedi  80.65  80.400  75.45  80.000  85.00   \n",
       "14       15             Mihir Chaudhary  75.64  45.650   0.00  75.000  75.00   \n",
       "15       16    Sakshi Guruprasad Chavan   0.00  78.400  80.00  70.334  81.00   \n",
       "16       17        Sneha Ramesh Chopde   56.50  45.400  78.45  75.000  90.00   \n",
       "17       18      Ankita Prakash Davande  80.45  75.000  78.00  70.334  78.00   \n",
       "18       19          Vaishnavi Deshmane  75.46  85.400  80.45  78.000  90.00   \n",
       "19       20     Gagandeep Singh Dhindsa   0.00  56.400  70.00  75.000  45.00   \n",
       "20       21              Dotesh Bendale  56.45  71.008  70.00  85.000  64.00   \n",
       "21       22               Sourabh Dubey  65.40  80.400  60.00  45.000  78.00   \n",
       "22       23        Shivam Vilas Gaikwad  86.40  75.400  75.00  86.000  90.00   \n",
       "23       24                Chetan Gamne   0.00  78.000  75.00  75.000  90.00   \n",
       "24       25  Shreyas Balasaheb Gangurde  56.23  50.000  56.00  56.000  47.00   \n",
       "25       26      Pratiksha Ajay Gujrani  75.64  76.400  85.00  78.000  86.00   \n",
       "26       27            ABHISHEK Jadhav   76.40  81.400  45.00   4.000  78.00   \n",
       "27       28        Janhavi Shyam Jadhav  85.40  71.008  78.00  70.334  63.00   \n",
       "28       29     Sanika Kamlakar Jadhav   85.00  75.400  80.00  45.000  90.00   \n",
       "29       30          Sumat Mahavir Jain  65.40  71.008  46.00  85.000  58.00   \n",
       "30       31                   Yash Jain   0.00  45.000  78.00  70.334  76.00   \n",
       "31       32     Joshi Rutuja Vishnupant  84.20  75.000  76.00  45.000  77.00   \n",
       "\n",
       "          AVG  \n",
       "0   81.440000  \n",
       "1   76.660000  \n",
       "2   66.950000  \n",
       "3   83.790000  \n",
       "4   78.500000  \n",
       "5   62.280000  \n",
       "6   85.000000  \n",
       "7   81.125000  \n",
       "8   68.550000  \n",
       "9   77.350000  \n",
       "10  82.175000  \n",
       "11  80.108000  \n",
       "12  58.133333  \n",
       "13  80.300000  \n",
       "14  67.822500  \n",
       "15  79.800000  \n",
       "16  63.837500  \n",
       "17  77.862500  \n",
       "18  79.827500  \n",
       "19  61.600000  \n",
       "20  68.862500  \n",
       "21  65.760000  \n",
       "22  80.700000  \n",
       "23  76.000000  \n",
       "24  53.046000  \n",
       "25  80.208000  \n",
       "26  56.960000  \n",
       "27  75.466667  \n",
       "28  71.350000  \n",
       "29  63.600000  \n",
       "30  66.333333  \n",
       "31  71.440000  "
      ]
     },
     "execution_count": 96,
     "metadata": {},
     "output_type": "execute_result"
    }
   ],
   "source": [
    "data"
   ]
  },
  {
   "cell_type": "code",
   "execution_count": 97,
   "id": "6bb8e9bd",
   "metadata": {},
   "outputs": [
    {
     "data": {
      "text/plain": [
       "(32, 8)"
      ]
     },
     "execution_count": 97,
     "metadata": {},
     "output_type": "execute_result"
    }
   ],
   "source": [
    "data.shape"
   ]
  },
  {
   "cell_type": "code",
   "execution_count": 98,
   "id": "266290e8",
   "metadata": {},
   "outputs": [],
   "source": [
    "data.drop(upper[0], inplace = True)"
   ]
  },
  {
   "cell_type": "code",
   "execution_count": 99,
   "id": "178bc2e1",
   "metadata": {},
   "outputs": [],
   "source": [
    "data.drop(lower[0], inplace = True)"
   ]
  },
  {
   "cell_type": "code",
   "execution_count": 100,
   "id": "939408e1",
   "metadata": {},
   "outputs": [
    {
     "data": {
      "text/html": [
       "<div>\n",
       "<style scoped>\n",
       "    .dataframe tbody tr th:only-of-type {\n",
       "        vertical-align: middle;\n",
       "    }\n",
       "\n",
       "    .dataframe tbody tr th {\n",
       "        vertical-align: top;\n",
       "    }\n",
       "\n",
       "    .dataframe thead th {\n",
       "        text-align: right;\n",
       "    }\n",
       "</style>\n",
       "<table border=\"1\" class=\"dataframe\">\n",
       "  <thead>\n",
       "    <tr style=\"text-align: right;\">\n",
       "      <th></th>\n",
       "      <th>Roll No</th>\n",
       "      <th>Name</th>\n",
       "      <th>SSC</th>\n",
       "      <th>HSC</th>\n",
       "      <th>FE</th>\n",
       "      <th>SE</th>\n",
       "      <th>TE</th>\n",
       "      <th>AVG</th>\n",
       "    </tr>\n",
       "  </thead>\n",
       "  <tbody>\n",
       "    <tr>\n",
       "      <th>0</th>\n",
       "      <td>1</td>\n",
       "      <td>Pranjal Rajendra Aher</td>\n",
       "      <td>90.00</td>\n",
       "      <td>80.000</td>\n",
       "      <td>78.00</td>\n",
       "      <td>80.600</td>\n",
       "      <td>78.60</td>\n",
       "      <td>81.440000</td>\n",
       "    </tr>\n",
       "    <tr>\n",
       "      <th>1</th>\n",
       "      <td>2</td>\n",
       "      <td>Ahire Kalpesh Bapurao</td>\n",
       "      <td>0.00</td>\n",
       "      <td>76.400</td>\n",
       "      <td>75.00</td>\n",
       "      <td>74.600</td>\n",
       "      <td>80.64</td>\n",
       "      <td>76.660000</td>\n",
       "    </tr>\n",
       "    <tr>\n",
       "      <th>2</th>\n",
       "      <td>3</td>\n",
       "      <td>Aniket Balasaheb Andhale</td>\n",
       "      <td>78.00</td>\n",
       "      <td>71.008</td>\n",
       "      <td>46.80</td>\n",
       "      <td>75.000</td>\n",
       "      <td>68.00</td>\n",
       "      <td>66.950000</td>\n",
       "    </tr>\n",
       "    <tr>\n",
       "      <th>3</th>\n",
       "      <td>4</td>\n",
       "      <td>Sharayu Chandrakant Avhad</td>\n",
       "      <td>80.00</td>\n",
       "      <td>85.000</td>\n",
       "      <td>84.65</td>\n",
       "      <td>90.650</td>\n",
       "      <td>78.65</td>\n",
       "      <td>83.790000</td>\n",
       "    </tr>\n",
       "    <tr>\n",
       "      <th>4</th>\n",
       "      <td>5</td>\n",
       "      <td>Tushar Dnyaneshwar Avhad</td>\n",
       "      <td>86.00</td>\n",
       "      <td>78.000</td>\n",
       "      <td>78.00</td>\n",
       "      <td>70.334</td>\n",
       "      <td>72.00</td>\n",
       "      <td>78.500000</td>\n",
       "    </tr>\n",
       "    <tr>\n",
       "      <th>5</th>\n",
       "      <td>6</td>\n",
       "      <td>Samruddhi Badgujar</td>\n",
       "      <td>0.00</td>\n",
       "      <td>71.008</td>\n",
       "      <td>46.56</td>\n",
       "      <td>70.334</td>\n",
       "      <td>78.00</td>\n",
       "      <td>62.280000</td>\n",
       "    </tr>\n",
       "    <tr>\n",
       "      <th>6</th>\n",
       "      <td>7</td>\n",
       "      <td>Asmeeta Lalitkumar Bardiya</td>\n",
       "      <td>90.00</td>\n",
       "      <td>80.000</td>\n",
       "      <td>85.00</td>\n",
       "      <td>90.000</td>\n",
       "      <td>80.00</td>\n",
       "      <td>85.000000</td>\n",
       "    </tr>\n",
       "    <tr>\n",
       "      <th>7</th>\n",
       "      <td>8</td>\n",
       "      <td>Abhishek Sunil Bhalerao</td>\n",
       "      <td>80.00</td>\n",
       "      <td>76.500</td>\n",
       "      <td>0.00</td>\n",
       "      <td>78.000</td>\n",
       "      <td>90.00</td>\n",
       "      <td>81.125000</td>\n",
       "    </tr>\n",
       "    <tr>\n",
       "      <th>8</th>\n",
       "      <td>9</td>\n",
       "      <td>Atharva Nitin Bhange</td>\n",
       "      <td>75.50</td>\n",
       "      <td>46.800</td>\n",
       "      <td>65.40</td>\n",
       "      <td>86.500</td>\n",
       "      <td>90.00</td>\n",
       "      <td>68.550000</td>\n",
       "    </tr>\n",
       "    <tr>\n",
       "      <th>9</th>\n",
       "      <td>10</td>\n",
       "      <td>Samruddhi bhansali</td>\n",
       "      <td>89.00</td>\n",
       "      <td>71.008</td>\n",
       "      <td>75.40</td>\n",
       "      <td>65.000</td>\n",
       "      <td>80.00</td>\n",
       "      <td>77.350000</td>\n",
       "    </tr>\n",
       "    <tr>\n",
       "      <th>10</th>\n",
       "      <td>11</td>\n",
       "      <td>Kamlesh Vijay Bhavsar</td>\n",
       "      <td>80.35</td>\n",
       "      <td>71.008</td>\n",
       "      <td>0.00</td>\n",
       "      <td>70.334</td>\n",
       "      <td>84.00</td>\n",
       "      <td>82.175000</td>\n",
       "    </tr>\n",
       "    <tr>\n",
       "      <th>11</th>\n",
       "      <td>12</td>\n",
       "      <td>Tejashree Binaykiya</td>\n",
       "      <td>75.64</td>\n",
       "      <td>80.450</td>\n",
       "      <td>84.45</td>\n",
       "      <td>85.000</td>\n",
       "      <td>75.00</td>\n",
       "      <td>80.108000</td>\n",
       "    </tr>\n",
       "    <tr>\n",
       "      <th>13</th>\n",
       "      <td>14</td>\n",
       "      <td>Suyam Sanjeev Chaturvedi</td>\n",
       "      <td>80.65</td>\n",
       "      <td>80.400</td>\n",
       "      <td>75.45</td>\n",
       "      <td>80.000</td>\n",
       "      <td>85.00</td>\n",
       "      <td>80.300000</td>\n",
       "    </tr>\n",
       "    <tr>\n",
       "      <th>14</th>\n",
       "      <td>15</td>\n",
       "      <td>Mihir Chaudhary</td>\n",
       "      <td>75.64</td>\n",
       "      <td>45.650</td>\n",
       "      <td>0.00</td>\n",
       "      <td>75.000</td>\n",
       "      <td>75.00</td>\n",
       "      <td>67.822500</td>\n",
       "    </tr>\n",
       "    <tr>\n",
       "      <th>15</th>\n",
       "      <td>16</td>\n",
       "      <td>Sakshi Guruprasad Chavan</td>\n",
       "      <td>0.00</td>\n",
       "      <td>78.400</td>\n",
       "      <td>80.00</td>\n",
       "      <td>70.334</td>\n",
       "      <td>81.00</td>\n",
       "      <td>79.800000</td>\n",
       "    </tr>\n",
       "    <tr>\n",
       "      <th>16</th>\n",
       "      <td>17</td>\n",
       "      <td>Sneha Ramesh Chopde</td>\n",
       "      <td>56.50</td>\n",
       "      <td>45.400</td>\n",
       "      <td>78.45</td>\n",
       "      <td>75.000</td>\n",
       "      <td>90.00</td>\n",
       "      <td>63.837500</td>\n",
       "    </tr>\n",
       "    <tr>\n",
       "      <th>17</th>\n",
       "      <td>18</td>\n",
       "      <td>Ankita Prakash Davande</td>\n",
       "      <td>80.45</td>\n",
       "      <td>75.000</td>\n",
       "      <td>78.00</td>\n",
       "      <td>70.334</td>\n",
       "      <td>78.00</td>\n",
       "      <td>77.862500</td>\n",
       "    </tr>\n",
       "    <tr>\n",
       "      <th>18</th>\n",
       "      <td>19</td>\n",
       "      <td>Vaishnavi Deshmane</td>\n",
       "      <td>75.46</td>\n",
       "      <td>85.400</td>\n",
       "      <td>80.45</td>\n",
       "      <td>78.000</td>\n",
       "      <td>90.00</td>\n",
       "      <td>79.827500</td>\n",
       "    </tr>\n",
       "    <tr>\n",
       "      <th>19</th>\n",
       "      <td>20</td>\n",
       "      <td>Gagandeep Singh Dhindsa</td>\n",
       "      <td>0.00</td>\n",
       "      <td>56.400</td>\n",
       "      <td>70.00</td>\n",
       "      <td>75.000</td>\n",
       "      <td>45.00</td>\n",
       "      <td>61.600000</td>\n",
       "    </tr>\n",
       "    <tr>\n",
       "      <th>20</th>\n",
       "      <td>21</td>\n",
       "      <td>Dotesh Bendale</td>\n",
       "      <td>56.45</td>\n",
       "      <td>71.008</td>\n",
       "      <td>70.00</td>\n",
       "      <td>85.000</td>\n",
       "      <td>64.00</td>\n",
       "      <td>68.862500</td>\n",
       "    </tr>\n",
       "    <tr>\n",
       "      <th>22</th>\n",
       "      <td>23</td>\n",
       "      <td>Shivam Vilas Gaikwad</td>\n",
       "      <td>86.40</td>\n",
       "      <td>75.400</td>\n",
       "      <td>75.00</td>\n",
       "      <td>86.000</td>\n",
       "      <td>90.00</td>\n",
       "      <td>80.700000</td>\n",
       "    </tr>\n",
       "    <tr>\n",
       "      <th>23</th>\n",
       "      <td>24</td>\n",
       "      <td>Chetan Gamne</td>\n",
       "      <td>0.00</td>\n",
       "      <td>78.000</td>\n",
       "      <td>75.00</td>\n",
       "      <td>75.000</td>\n",
       "      <td>90.00</td>\n",
       "      <td>76.000000</td>\n",
       "    </tr>\n",
       "    <tr>\n",
       "      <th>24</th>\n",
       "      <td>25</td>\n",
       "      <td>Shreyas Balasaheb Gangurde</td>\n",
       "      <td>56.23</td>\n",
       "      <td>50.000</td>\n",
       "      <td>56.00</td>\n",
       "      <td>56.000</td>\n",
       "      <td>47.00</td>\n",
       "      <td>53.046000</td>\n",
       "    </tr>\n",
       "    <tr>\n",
       "      <th>25</th>\n",
       "      <td>26</td>\n",
       "      <td>Pratiksha Ajay Gujrani</td>\n",
       "      <td>75.64</td>\n",
       "      <td>76.400</td>\n",
       "      <td>85.00</td>\n",
       "      <td>78.000</td>\n",
       "      <td>86.00</td>\n",
       "      <td>80.208000</td>\n",
       "    </tr>\n",
       "    <tr>\n",
       "      <th>27</th>\n",
       "      <td>28</td>\n",
       "      <td>Janhavi Shyam Jadhav</td>\n",
       "      <td>85.40</td>\n",
       "      <td>71.008</td>\n",
       "      <td>78.00</td>\n",
       "      <td>70.334</td>\n",
       "      <td>63.00</td>\n",
       "      <td>75.466667</td>\n",
       "    </tr>\n",
       "    <tr>\n",
       "      <th>29</th>\n",
       "      <td>30</td>\n",
       "      <td>Sumat Mahavir Jain</td>\n",
       "      <td>65.40</td>\n",
       "      <td>71.008</td>\n",
       "      <td>46.00</td>\n",
       "      <td>85.000</td>\n",
       "      <td>58.00</td>\n",
       "      <td>63.600000</td>\n",
       "    </tr>\n",
       "    <tr>\n",
       "      <th>30</th>\n",
       "      <td>31</td>\n",
       "      <td>Yash Jain</td>\n",
       "      <td>0.00</td>\n",
       "      <td>45.000</td>\n",
       "      <td>78.00</td>\n",
       "      <td>70.334</td>\n",
       "      <td>76.00</td>\n",
       "      <td>66.333333</td>\n",
       "    </tr>\n",
       "  </tbody>\n",
       "</table>\n",
       "</div>"
      ],
      "text/plain": [
       "    Roll No                        Name    SSC     HSC     FE      SE     TE  \\\n",
       "0         1       Pranjal Rajendra Aher  90.00  80.000  78.00  80.600  78.60   \n",
       "1         2       Ahire Kalpesh Bapurao   0.00  76.400  75.00  74.600  80.64   \n",
       "2         3    Aniket Balasaheb Andhale  78.00  71.008  46.80  75.000  68.00   \n",
       "3         4   Sharayu Chandrakant Avhad  80.00  85.000  84.65  90.650  78.65   \n",
       "4         5    Tushar Dnyaneshwar Avhad  86.00  78.000  78.00  70.334  72.00   \n",
       "5         6          Samruddhi Badgujar   0.00  71.008  46.56  70.334  78.00   \n",
       "6         7  Asmeeta Lalitkumar Bardiya  90.00  80.000  85.00  90.000  80.00   \n",
       "7         8     Abhishek Sunil Bhalerao  80.00  76.500   0.00  78.000  90.00   \n",
       "8         9        Atharva Nitin Bhange  75.50  46.800  65.40  86.500  90.00   \n",
       "9        10          Samruddhi bhansali  89.00  71.008  75.40  65.000  80.00   \n",
       "10       11       Kamlesh Vijay Bhavsar  80.35  71.008   0.00  70.334  84.00   \n",
       "11       12         Tejashree Binaykiya  75.64  80.450  84.45  85.000  75.00   \n",
       "13       14    Suyam Sanjeev Chaturvedi  80.65  80.400  75.45  80.000  85.00   \n",
       "14       15             Mihir Chaudhary  75.64  45.650   0.00  75.000  75.00   \n",
       "15       16    Sakshi Guruprasad Chavan   0.00  78.400  80.00  70.334  81.00   \n",
       "16       17        Sneha Ramesh Chopde   56.50  45.400  78.45  75.000  90.00   \n",
       "17       18      Ankita Prakash Davande  80.45  75.000  78.00  70.334  78.00   \n",
       "18       19          Vaishnavi Deshmane  75.46  85.400  80.45  78.000  90.00   \n",
       "19       20     Gagandeep Singh Dhindsa   0.00  56.400  70.00  75.000  45.00   \n",
       "20       21              Dotesh Bendale  56.45  71.008  70.00  85.000  64.00   \n",
       "22       23        Shivam Vilas Gaikwad  86.40  75.400  75.00  86.000  90.00   \n",
       "23       24                Chetan Gamne   0.00  78.000  75.00  75.000  90.00   \n",
       "24       25  Shreyas Balasaheb Gangurde  56.23  50.000  56.00  56.000  47.00   \n",
       "25       26      Pratiksha Ajay Gujrani  75.64  76.400  85.00  78.000  86.00   \n",
       "27       28        Janhavi Shyam Jadhav  85.40  71.008  78.00  70.334  63.00   \n",
       "29       30          Sumat Mahavir Jain  65.40  71.008  46.00  85.000  58.00   \n",
       "30       31                   Yash Jain   0.00  45.000  78.00  70.334  76.00   \n",
       "\n",
       "          AVG  \n",
       "0   81.440000  \n",
       "1   76.660000  \n",
       "2   66.950000  \n",
       "3   83.790000  \n",
       "4   78.500000  \n",
       "5   62.280000  \n",
       "6   85.000000  \n",
       "7   81.125000  \n",
       "8   68.550000  \n",
       "9   77.350000  \n",
       "10  82.175000  \n",
       "11  80.108000  \n",
       "13  80.300000  \n",
       "14  67.822500  \n",
       "15  79.800000  \n",
       "16  63.837500  \n",
       "17  77.862500  \n",
       "18  79.827500  \n",
       "19  61.600000  \n",
       "20  68.862500  \n",
       "22  80.700000  \n",
       "23  76.000000  \n",
       "24  53.046000  \n",
       "25  80.208000  \n",
       "27  75.466667  \n",
       "29  63.600000  \n",
       "30  66.333333  "
      ]
     },
     "execution_count": 100,
     "metadata": {},
     "output_type": "execute_result"
    }
   ],
   "source": [
    "data"
   ]
  },
  {
   "cell_type": "code",
   "execution_count": 101,
   "id": "0094a00d",
   "metadata": {},
   "outputs": [
    {
     "data": {
      "text/plain": [
       "0     80.600\n",
       "1     74.600\n",
       "2     75.000\n",
       "3     90.650\n",
       "4     70.334\n",
       "5     70.334\n",
       "6     90.000\n",
       "7     78.000\n",
       "8     86.500\n",
       "9     65.000\n",
       "10    70.334\n",
       "11    85.000\n",
       "13    80.000\n",
       "14    75.000\n",
       "15    70.334\n",
       "16    75.000\n",
       "17    70.334\n",
       "18    78.000\n",
       "19    75.000\n",
       "20    85.000\n",
       "22    86.000\n",
       "23    75.000\n",
       "24    56.000\n",
       "25    78.000\n",
       "27    70.334\n",
       "29    85.000\n",
       "30    70.334\n",
       "Name: SE, dtype: float64"
      ]
     },
     "execution_count": 101,
     "metadata": {},
     "output_type": "execute_result"
    }
   ],
   "source": [
    "data[\"SE\"]"
   ]
  },
  {
   "cell_type": "code",
   "execution_count": 102,
   "id": "e1276034",
   "metadata": {},
   "outputs": [
    {
     "data": {
      "text/plain": [
       "(27, 8)"
      ]
     },
     "execution_count": 102,
     "metadata": {},
     "output_type": "execute_result"
    }
   ],
   "source": [
    "data.shape"
   ]
  },
  {
   "cell_type": "code",
   "execution_count": 103,
   "id": "7b6a47e1",
   "metadata": {},
   "outputs": [
    {
     "data": {
      "text/plain": [
       "0     90.00\n",
       "1      0.00\n",
       "2     78.00\n",
       "3     80.00\n",
       "4     86.00\n",
       "5      0.00\n",
       "6     90.00\n",
       "7     80.00\n",
       "8     75.50\n",
       "9     89.00\n",
       "10    80.35\n",
       "11    75.64\n",
       "13    80.65\n",
       "14    75.64\n",
       "15     0.00\n",
       "16    56.50\n",
       "17    80.45\n",
       "18    75.46\n",
       "19     0.00\n",
       "20    56.45\n",
       "22    86.40\n",
       "23     0.00\n",
       "24    56.23\n",
       "25    75.64\n",
       "27    85.40\n",
       "29    65.40\n",
       "30     0.00\n",
       "Name: SSC, dtype: float64"
      ]
     },
     "execution_count": 103,
     "metadata": {},
     "output_type": "execute_result"
    }
   ],
   "source": [
    "data['SSC']"
   ]
  },
  {
   "cell_type": "code",
   "execution_count": 104,
   "id": "cb116dc8",
   "metadata": {},
   "outputs": [
    {
     "data": {
      "text/plain": [
       "0     90.00\n",
       "1      0.00\n",
       "2     78.00\n",
       "3     80.00\n",
       "4     86.00\n",
       "5      0.00\n",
       "6     90.00\n",
       "7     80.00\n",
       "8     75.50\n",
       "9     89.00\n",
       "10    80.35\n",
       "11    75.64\n",
       "13    80.65\n",
       "14    75.64\n",
       "15     0.00\n",
       "16    56.50\n",
       "17    80.45\n",
       "18    75.46\n",
       "19     0.00\n",
       "20    56.45\n",
       "22    86.40\n",
       "23     0.00\n",
       "24    56.23\n",
       "25    75.64\n",
       "27    85.40\n",
       "29    65.40\n",
       "30     0.00\n",
       "Name: SSC, dtype: float64"
      ]
     },
     "execution_count": 104,
     "metadata": {},
     "output_type": "execute_result"
    }
   ],
   "source": [
    "data[\"SSC\"]"
   ]
  },
  {
   "cell_type": "code",
   "execution_count": 105,
   "id": "11ca8e79",
   "metadata": {},
   "outputs": [],
   "source": [
    "upper_limit = data['SSC'].quantile(0.90)\n",
    "lower_limit = data['SSC'].quantile(0.10)"
   ]
  },
  {
   "cell_type": "code",
   "execution_count": 106,
   "id": "3e8d1921",
   "metadata": {},
   "outputs": [
    {
     "data": {
      "text/plain": [
       "87.44000000000001"
      ]
     },
     "execution_count": 106,
     "metadata": {},
     "output_type": "execute_result"
    }
   ],
   "source": [
    "upper_limit"
   ]
  },
  {
   "cell_type": "code",
   "execution_count": 107,
   "id": "144deac3",
   "metadata": {},
   "outputs": [
    {
     "data": {
      "text/plain": [
       "0.0"
      ]
     },
     "execution_count": 107,
     "metadata": {},
     "output_type": "execute_result"
    }
   ],
   "source": [
    "lower_limit"
   ]
  },
  {
   "cell_type": "code",
   "execution_count": 108,
   "id": "11fd4e6f",
   "metadata": {},
   "outputs": [
    {
     "data": {
      "text/plain": [
       "count    21.000000\n",
       "mean     77.081429\n",
       "std      10.478321\n",
       "min      56.230000\n",
       "25%      75.500000\n",
       "50%      80.000000\n",
       "75%      85.400000\n",
       "max      90.000000\n",
       "Name: SSC, dtype: float64"
      ]
     },
     "execution_count": 108,
     "metadata": {},
     "output_type": "execute_result"
    }
   ],
   "source": [
    "index = data[(data['SSC'] <= lower_limit)].index\n",
    "data.drop(index, inplace=True)\n",
    "data['SSC'].describe()"
   ]
  },
  {
   "cell_type": "code",
   "execution_count": 109,
   "id": "96deedf1",
   "metadata": {},
   "outputs": [
    {
     "data": {
      "text/plain": [
       "0     90.00\n",
       "2     78.00\n",
       "3     80.00\n",
       "4     86.00\n",
       "6     90.00\n",
       "7     80.00\n",
       "8     75.50\n",
       "9     89.00\n",
       "10    80.35\n",
       "11    75.64\n",
       "13    80.65\n",
       "14    75.64\n",
       "16    56.50\n",
       "17    80.45\n",
       "18    75.46\n",
       "20    56.45\n",
       "22    86.40\n",
       "24    56.23\n",
       "25    75.64\n",
       "27    85.40\n",
       "29    65.40\n",
       "Name: SSC, dtype: float64"
      ]
     },
     "execution_count": 109,
     "metadata": {},
     "output_type": "execute_result"
    }
   ],
   "source": [
    "data[\"SSC\"]"
   ]
  },
  {
   "cell_type": "markdown",
   "id": "a40b78cb",
   "metadata": {},
   "source": [
    "# Quantile-based Flooring and Capping"
   ]
  },
  {
   "cell_type": "code",
   "execution_count": 110,
   "id": "c8166649",
   "metadata": {},
   "outputs": [],
   "source": [
    "tenth_per=np.percentile(data[\"HSC\"],10)\n",
    "ninth_per=data['HSC'].quantile(0.90)"
   ]
  },
  {
   "cell_type": "code",
   "execution_count": 111,
   "id": "4d4d8a53",
   "metadata": {},
   "outputs": [
    {
     "data": {
      "text/plain": [
       "46.8"
      ]
     },
     "execution_count": 111,
     "metadata": {},
     "output_type": "execute_result"
    }
   ],
   "source": [
    "tenth_per"
   ]
  },
  {
   "cell_type": "code",
   "execution_count": 112,
   "id": "7a3e951f",
   "metadata": {},
   "outputs": [
    {
     "data": {
      "text/plain": [
       "80.45"
      ]
     },
     "execution_count": 112,
     "metadata": {},
     "output_type": "execute_result"
    }
   ],
   "source": [
    "ninth_per"
   ]
  },
  {
   "cell_type": "code",
   "execution_count": 113,
   "id": "832165ac",
   "metadata": {},
   "outputs": [
    {
     "data": {
      "text/plain": [
       "0     80.000\n",
       "2     71.008\n",
       "3     85.000\n",
       "4     78.000\n",
       "6     80.000\n",
       "7     76.500\n",
       "8     46.800\n",
       "9     71.008\n",
       "10    71.008\n",
       "11    80.450\n",
       "13    80.400\n",
       "14    45.650\n",
       "16    45.400\n",
       "17    75.000\n",
       "18    85.400\n",
       "20    71.008\n",
       "22    75.400\n",
       "24    50.000\n",
       "25    76.400\n",
       "27    71.008\n",
       "29    71.008\n",
       "Name: HSC, dtype: float64"
      ]
     },
     "execution_count": 113,
     "metadata": {},
     "output_type": "execute_result"
    }
   ],
   "source": [
    "data[\"HSC\"]"
   ]
  },
  {
   "cell_type": "code",
   "execution_count": 114,
   "id": "74345569",
   "metadata": {},
   "outputs": [],
   "source": [
    "data[\"HSC\"] = np.where(data[\"HSC\"] <=tenth_per, tenth_per,data['HSC'])\n",
    "data[\"HSC\"] = np.where(data[\"HSC\"] >=ninth_per, ninth_per,data['HSC'])"
   ]
  },
  {
   "cell_type": "code",
   "execution_count": 115,
   "id": "c829a9a1",
   "metadata": {},
   "outputs": [
    {
     "data": {
      "text/plain": [
       "0     80.000\n",
       "2     71.008\n",
       "3     80.450\n",
       "4     78.000\n",
       "6     80.000\n",
       "7     76.500\n",
       "8     46.800\n",
       "9     71.008\n",
       "10    71.008\n",
       "11    80.450\n",
       "13    80.400\n",
       "14    46.800\n",
       "16    46.800\n",
       "17    75.000\n",
       "18    80.450\n",
       "20    71.008\n",
       "22    75.400\n",
       "24    50.000\n",
       "25    76.400\n",
       "27    71.008\n",
       "29    71.008\n",
       "Name: HSC, dtype: float64"
      ]
     },
     "execution_count": 115,
     "metadata": {},
     "output_type": "execute_result"
    }
   ],
   "source": [
    "data[\"HSC\"]"
   ]
  },
  {
   "cell_type": "code",
   "execution_count": 116,
   "id": "5a453df6",
   "metadata": {},
   "outputs": [
    {
     "data": {
      "text/plain": [
       "<AxesSubplot:>"
      ]
     },
     "execution_count": 116,
     "metadata": {},
     "output_type": "execute_result"
    },
    {
     "data": {
      "image/png": "[encoded data removed]",
      "text/plain": [
       "<Figure size 432x288 with 1 Axes>"
      ]
     },
     "metadata": {
      "needs_background": "light"
     },
     "output_type": "display_data"
    }
   ],
   "source": [
    "data.boxplot()"
   ]
  },
  {
   "cell_type": "markdown",
   "id": "9580455a",
   "metadata": {},
   "source": [
    "# replacing with mean"
   ]
  },
  {
   "cell_type": "code",
   "execution_count": 117,
   "id": "158ba6ec",
   "metadata": {},
   "outputs": [
    {
     "data": {
      "text/plain": [
       "62.85952380952382"
      ]
     },
     "execution_count": 117,
     "metadata": {},
     "output_type": "execute_result"
    }
   ],
   "source": [
    "mean_fe=data[\"FE\"].mean()\n",
    "mean_fe"
   ]
  },
  {
   "cell_type": "code",
   "execution_count": 118,
   "id": "f6f715ad",
   "metadata": {},
   "outputs": [
    {
     "data": {
      "text/plain": [
       "0     78.00\n",
       "2     46.80\n",
       "3     84.65\n",
       "4     78.00\n",
       "6     85.00\n",
       "7      0.00\n",
       "8     65.40\n",
       "9     75.40\n",
       "10     0.00\n",
       "11    84.45\n",
       "13    75.45\n",
       "14     0.00\n",
       "16    78.45\n",
       "17    78.00\n",
       "18    80.45\n",
       "20    70.00\n",
       "22    75.00\n",
       "24    56.00\n",
       "25    85.00\n",
       "27    78.00\n",
       "29    46.00\n",
       "Name: FE, dtype: float64"
      ]
     },
     "execution_count": 118,
     "metadata": {},
     "output_type": "execute_result"
    }
   ],
   "source": [
    "data[\"FE\"]"
   ]
  },
  {
   "cell_type": "code",
   "execution_count": 119,
   "id": "3d138f49",
   "metadata": {},
   "outputs": [],
   "source": [
    "data[\"FE\"] = np.where(data[\"FE\"] <=lower_fe, mean_fe,data['FE'])"
   ]
  },
  {
   "cell_type": "code",
   "execution_count": 120,
   "id": "5bd6c8cc",
   "metadata": {},
   "outputs": [
    {
     "data": {
      "text/plain": [
       "0     78.000000\n",
       "2     46.800000\n",
       "3     84.650000\n",
       "4     78.000000\n",
       "6     85.000000\n",
       "7     62.859524\n",
       "8     65.400000\n",
       "9     75.400000\n",
       "10    62.859524\n",
       "11    84.450000\n",
       "13    75.450000\n",
       "14    62.859524\n",
       "16    78.450000\n",
       "17    78.000000\n",
       "18    80.450000\n",
       "20    70.000000\n",
       "22    75.000000\n",
       "24    56.000000\n",
       "25    85.000000\n",
       "27    78.000000\n",
       "29    46.000000\n",
       "Name: FE, dtype: float64"
      ]
     },
     "execution_count": 120,
     "metadata": {},
     "output_type": "execute_result"
    }
   ],
   "source": [
    "data[\"FE\"]"
   ]
  },
  {
   "cell_type": "code",
   "execution_count": 121,
   "id": "01a66a1f",
   "metadata": {},
   "outputs": [
    {
     "data": {
      "text/plain": [
       "56.5"
      ]
     },
     "execution_count": 121,
     "metadata": {},
     "output_type": "execute_result"
    }
   ],
   "source": [
    "lower_limit = data['SSC'].quantile(0.10)\n",
    "lower_limit"
   ]
  },
  {
   "cell_type": "code",
   "execution_count": 122,
   "id": "32c8baa9",
   "metadata": {},
   "outputs": [
    {
     "data": {
      "text/plain": [
       "77.08142857142859"
      ]
     },
     "execution_count": 122,
     "metadata": {},
     "output_type": "execute_result"
    }
   ],
   "source": [
    "mean_ssc=data[\"SSC\"].mean()\n",
    "mean_ssc"
   ]
  },
  {
   "cell_type": "code",
   "execution_count": 123,
   "id": "2455465c",
   "metadata": {},
   "outputs": [],
   "source": [
    "data[\"SSC\"] = np.where(data[\"SSC\"] <=lower_limit, mean_ssc,data['SSC'])"
   ]
  },
  {
   "cell_type": "code",
   "execution_count": 124,
   "id": "17c80d9e",
   "metadata": {},
   "outputs": [
    {
     "data": {
      "text/plain": [
       "0     90.000000\n",
       "2     78.000000\n",
       "3     80.000000\n",
       "4     86.000000\n",
       "6     90.000000\n",
       "7     80.000000\n",
       "8     75.500000\n",
       "9     89.000000\n",
       "10    80.350000\n",
       "11    75.640000\n",
       "13    80.650000\n",
       "14    75.640000\n",
       "16    77.081429\n",
       "17    80.450000\n",
       "18    75.460000\n",
       "20    77.081429\n",
       "22    86.400000\n",
       "24    77.081429\n",
       "25    75.640000\n",
       "27    85.400000\n",
       "29    65.400000\n",
       "Name: SSC, dtype: float64"
      ]
     },
     "execution_count": 124,
     "metadata": {},
     "output_type": "execute_result"
    }
   ],
   "source": [
    "data[\"SSC\"]"
   ]
  },
  {
   "cell_type": "markdown",
   "id": "77114e55",
   "metadata": {},
   "source": [
    "# replacing with median"
   ]
  },
  {
   "cell_type": "code",
   "execution_count": 125,
   "id": "be3bb6b7",
   "metadata": {},
   "outputs": [
    {
     "data": {
      "text/plain": [
       "78.65"
      ]
     },
     "execution_count": 125,
     "metadata": {},
     "output_type": "execute_result"
    }
   ],
   "source": [
    "median_te=data[\"TE\"].median()\n",
    "median_te"
   ]
  },
  {
   "cell_type": "code",
   "execution_count": 126,
   "id": "6e86b187",
   "metadata": {},
   "outputs": [
    {
     "data": {
      "text/plain": [
       "0     78.60\n",
       "2     68.00\n",
       "3     78.65\n",
       "4     72.00\n",
       "6     80.00\n",
       "7     90.00\n",
       "8     90.00\n",
       "9     80.00\n",
       "10    84.00\n",
       "11    75.00\n",
       "13    85.00\n",
       "14    75.00\n",
       "16    90.00\n",
       "17    78.00\n",
       "18    90.00\n",
       "20    64.00\n",
       "22    90.00\n",
       "24    47.00\n",
       "25    86.00\n",
       "27    63.00\n",
       "29    58.00\n",
       "Name: TE, dtype: float64"
      ]
     },
     "execution_count": 126,
     "metadata": {},
     "output_type": "execute_result"
    }
   ],
   "source": [
    "data[\"TE\"]"
   ]
  },
  {
   "cell_type": "code",
   "execution_count": 127,
   "id": "e090e77d",
   "metadata": {},
   "outputs": [],
   "source": [
    "tenth_per=np.percentile(data[\"TE\"],10)"
   ]
  },
  {
   "cell_type": "code",
   "execution_count": 128,
   "id": "00130beb",
   "metadata": {},
   "outputs": [],
   "source": [
    "data[\"TE\"] = np.where(data[\"TE\"] <=tenth_per, median_te,data['TE'])"
   ]
  },
  {
   "cell_type": "code",
   "execution_count": 129,
   "id": "d5eae5f7",
   "metadata": {},
   "outputs": [
    {
     "data": {
      "text/plain": [
       "0     78.60\n",
       "2     68.00\n",
       "3     78.65\n",
       "4     72.00\n",
       "6     80.00\n",
       "7     90.00\n",
       "8     90.00\n",
       "9     80.00\n",
       "10    84.00\n",
       "11    75.00\n",
       "13    85.00\n",
       "14    75.00\n",
       "16    90.00\n",
       "17    78.00\n",
       "18    90.00\n",
       "20    64.00\n",
       "22    90.00\n",
       "24    78.65\n",
       "25    86.00\n",
       "27    78.65\n",
       "29    78.65\n",
       "Name: TE, dtype: float64"
      ]
     },
     "execution_count": 129,
     "metadata": {},
     "output_type": "execute_result"
    }
   ],
   "source": [
    "data[\"TE\"]"
   ]
  },
  {
   "cell_type": "code",
   "execution_count": 130,
   "id": "7abecaf6",
   "metadata": {},
   "outputs": [
    {
     "data": {
      "text/plain": [
       "46.8"
      ]
     },
     "execution_count": 130,
     "metadata": {},
     "output_type": "execute_result"
    }
   ],
   "source": [
    "tenth_per=np.percentile(data[\"HSC\"],10)\n",
    "tenth_per"
   ]
  },
  {
   "cell_type": "code",
   "execution_count": 131,
   "id": "716c97a8",
   "metadata": {},
   "outputs": [
    {
     "data": {
      "text/plain": [
       "75.0"
      ]
     },
     "execution_count": 131,
     "metadata": {},
     "output_type": "execute_result"
    }
   ],
   "source": [
    "median_hsc=data[\"HSC\"].median()\n",
    "median_hsc"
   ]
  },
  {
   "cell_type": "code",
   "execution_count": null,
   "id": "75db3543",
   "metadata": {},
   "outputs": [],
   "source": []
  },
  {
   "cell_type": "code",
   "execution_count": 132,
   "id": "0f157249",
   "metadata": {},
   "outputs": [],
   "source": [
    "data[\"HSC\"] = np.where(data[\"HSC\"] <=tenth_per, median_hsc,data['HSC'])"
   ]
  },
  {
   "cell_type": "code",
   "execution_count": 133,
   "id": "11942608",
   "metadata": {},
   "outputs": [
    {
     "data": {
      "text/plain": [
       "<AxesSubplot:>"
      ]
     },
     "execution_count": 133,
     "metadata": {},
     "output_type": "execute_result"
    },
    {
     "data": {
      "image/png": "[encoded data removed]",
      "text/plain": [
       "<Figure size 432x288 with 1 Axes>"
      ]
     },
     "metadata": {
      "needs_background": "light"
     },
     "output_type": "display_data"
    }
   ],
   "source": [
    "data.boxplot()"
   ]
  },
  {
   "cell_type": "code",
   "execution_count": null,
   "id": "f0d6b39b",
   "metadata": {},
   "outputs": [],
   "source": []
  }
 ],
 "metadata": {
  "kernelspec": {
   "display_name": "Python 3",
   "language": "python",
   "name": "python3"
  },
  "language_info": {
   "codemirror_mode": {
    "name": "ipython",
    "version": 3
   },
   "file_extension": ".py",
   "mimetype": "text/x-python",
   "name": "python",
   "nbconvert_exporter": "python",
   "pygments_lexer": "ipython3",
   "version": "3.8.8"
  }
 },
 "nbformat": 4,
 "nbformat_minor": 5
}
